{
 "cells": [
  {
   "cell_type": "markdown",
   "id": "a39808de",
   "metadata": {},
   "source": [
    "# Importing Libraries"
   ]
  },
  {
   "cell_type": "code",
   "execution_count": 1,
   "id": "2fa385e4",
   "metadata": {},
   "outputs": [],
   "source": [
    "import numpy as np\n",
    "import pandas as pd\n",
    "\n",
    "import seaborn as sns\n",
    "import matplotlib.pyplot as plt\n",
    "\n",
    "import warnings\n",
    "warnings.filterwarnings('ignore')"
   ]
  },
  {
   "cell_type": "code",
   "execution_count": 2,
   "id": "7e781a03",
   "metadata": {},
   "outputs": [],
   "source": [
    "df = pd.read_csv('loan.csv')"
   ]
  },
  {
   "cell_type": "code",
   "execution_count": 3,
   "id": "e52b9995",
   "metadata": {},
   "outputs": [
    {
     "data": {
      "text/html": [
       "<div>\n",
       "<style scoped>\n",
       "    .dataframe tbody tr th:only-of-type {\n",
       "        vertical-align: middle;\n",
       "    }\n",
       "\n",
       "    .dataframe tbody tr th {\n",
       "        vertical-align: top;\n",
       "    }\n",
       "\n",
       "    .dataframe thead th {\n",
       "        text-align: right;\n",
       "    }\n",
       "</style>\n",
       "<table border=\"1\" class=\"dataframe\">\n",
       "  <thead>\n",
       "    <tr style=\"text-align: right;\">\n",
       "      <th></th>\n",
       "      <th>id</th>\n",
       "      <th>member_id</th>\n",
       "      <th>loan_amnt</th>\n",
       "      <th>funded_amnt</th>\n",
       "      <th>funded_amnt_inv</th>\n",
       "      <th>term</th>\n",
       "      <th>int_rate</th>\n",
       "      <th>installment</th>\n",
       "      <th>grade</th>\n",
       "      <th>sub_grade</th>\n",
       "      <th>...</th>\n",
       "      <th>num_tl_90g_dpd_24m</th>\n",
       "      <th>num_tl_op_past_12m</th>\n",
       "      <th>pct_tl_nvr_dlq</th>\n",
       "      <th>percent_bc_gt_75</th>\n",
       "      <th>pub_rec_bankruptcies</th>\n",
       "      <th>tax_liens</th>\n",
       "      <th>tot_hi_cred_lim</th>\n",
       "      <th>total_bal_ex_mort</th>\n",
       "      <th>total_bc_limit</th>\n",
       "      <th>total_il_high_credit_limit</th>\n",
       "    </tr>\n",
       "  </thead>\n",
       "  <tbody>\n",
       "    <tr>\n",
       "      <th>0</th>\n",
       "      <td>1077501</td>\n",
       "      <td>1296599</td>\n",
       "      <td>5000</td>\n",
       "      <td>5000</td>\n",
       "      <td>4975.0</td>\n",
       "      <td>36 months</td>\n",
       "      <td>10.65%</td>\n",
       "      <td>162.87</td>\n",
       "      <td>B</td>\n",
       "      <td>B2</td>\n",
       "      <td>...</td>\n",
       "      <td>NaN</td>\n",
       "      <td>NaN</td>\n",
       "      <td>NaN</td>\n",
       "      <td>NaN</td>\n",
       "      <td>0.0</td>\n",
       "      <td>0.0</td>\n",
       "      <td>NaN</td>\n",
       "      <td>NaN</td>\n",
       "      <td>NaN</td>\n",
       "      <td>NaN</td>\n",
       "    </tr>\n",
       "    <tr>\n",
       "      <th>1</th>\n",
       "      <td>1077430</td>\n",
       "      <td>1314167</td>\n",
       "      <td>2500</td>\n",
       "      <td>2500</td>\n",
       "      <td>2500.0</td>\n",
       "      <td>60 months</td>\n",
       "      <td>15.27%</td>\n",
       "      <td>59.83</td>\n",
       "      <td>C</td>\n",
       "      <td>C4</td>\n",
       "      <td>...</td>\n",
       "      <td>NaN</td>\n",
       "      <td>NaN</td>\n",
       "      <td>NaN</td>\n",
       "      <td>NaN</td>\n",
       "      <td>0.0</td>\n",
       "      <td>0.0</td>\n",
       "      <td>NaN</td>\n",
       "      <td>NaN</td>\n",
       "      <td>NaN</td>\n",
       "      <td>NaN</td>\n",
       "    </tr>\n",
       "    <tr>\n",
       "      <th>2</th>\n",
       "      <td>1077175</td>\n",
       "      <td>1313524</td>\n",
       "      <td>2400</td>\n",
       "      <td>2400</td>\n",
       "      <td>2400.0</td>\n",
       "      <td>36 months</td>\n",
       "      <td>15.96%</td>\n",
       "      <td>84.33</td>\n",
       "      <td>C</td>\n",
       "      <td>C5</td>\n",
       "      <td>...</td>\n",
       "      <td>NaN</td>\n",
       "      <td>NaN</td>\n",
       "      <td>NaN</td>\n",
       "      <td>NaN</td>\n",
       "      <td>0.0</td>\n",
       "      <td>0.0</td>\n",
       "      <td>NaN</td>\n",
       "      <td>NaN</td>\n",
       "      <td>NaN</td>\n",
       "      <td>NaN</td>\n",
       "    </tr>\n",
       "    <tr>\n",
       "      <th>3</th>\n",
       "      <td>1076863</td>\n",
       "      <td>1277178</td>\n",
       "      <td>10000</td>\n",
       "      <td>10000</td>\n",
       "      <td>10000.0</td>\n",
       "      <td>36 months</td>\n",
       "      <td>13.49%</td>\n",
       "      <td>339.31</td>\n",
       "      <td>C</td>\n",
       "      <td>C1</td>\n",
       "      <td>...</td>\n",
       "      <td>NaN</td>\n",
       "      <td>NaN</td>\n",
       "      <td>NaN</td>\n",
       "      <td>NaN</td>\n",
       "      <td>0.0</td>\n",
       "      <td>0.0</td>\n",
       "      <td>NaN</td>\n",
       "      <td>NaN</td>\n",
       "      <td>NaN</td>\n",
       "      <td>NaN</td>\n",
       "    </tr>\n",
       "    <tr>\n",
       "      <th>4</th>\n",
       "      <td>1075358</td>\n",
       "      <td>1311748</td>\n",
       "      <td>3000</td>\n",
       "      <td>3000</td>\n",
       "      <td>3000.0</td>\n",
       "      <td>60 months</td>\n",
       "      <td>12.69%</td>\n",
       "      <td>67.79</td>\n",
       "      <td>B</td>\n",
       "      <td>B5</td>\n",
       "      <td>...</td>\n",
       "      <td>NaN</td>\n",
       "      <td>NaN</td>\n",
       "      <td>NaN</td>\n",
       "      <td>NaN</td>\n",
       "      <td>0.0</td>\n",
       "      <td>0.0</td>\n",
       "      <td>NaN</td>\n",
       "      <td>NaN</td>\n",
       "      <td>NaN</td>\n",
       "      <td>NaN</td>\n",
       "    </tr>\n",
       "  </tbody>\n",
       "</table>\n",
       "<p>5 rows × 111 columns</p>\n",
       "</div>"
      ],
      "text/plain": [
       "        id  member_id  loan_amnt  funded_amnt  funded_amnt_inv        term  \\\n",
       "0  1077501    1296599       5000         5000           4975.0   36 months   \n",
       "1  1077430    1314167       2500         2500           2500.0   60 months   \n",
       "2  1077175    1313524       2400         2400           2400.0   36 months   \n",
       "3  1076863    1277178      10000        10000          10000.0   36 months   \n",
       "4  1075358    1311748       3000         3000           3000.0   60 months   \n",
       "\n",
       "  int_rate  installment grade sub_grade  ... num_tl_90g_dpd_24m  \\\n",
       "0   10.65%       162.87     B        B2  ...                NaN   \n",
       "1   15.27%        59.83     C        C4  ...                NaN   \n",
       "2   15.96%        84.33     C        C5  ...                NaN   \n",
       "3   13.49%       339.31     C        C1  ...                NaN   \n",
       "4   12.69%        67.79     B        B5  ...                NaN   \n",
       "\n",
       "  num_tl_op_past_12m pct_tl_nvr_dlq  percent_bc_gt_75 pub_rec_bankruptcies  \\\n",
       "0                NaN            NaN               NaN                  0.0   \n",
       "1                NaN            NaN               NaN                  0.0   \n",
       "2                NaN            NaN               NaN                  0.0   \n",
       "3                NaN            NaN               NaN                  0.0   \n",
       "4                NaN            NaN               NaN                  0.0   \n",
       "\n",
       "  tax_liens tot_hi_cred_lim total_bal_ex_mort total_bc_limit  \\\n",
       "0       0.0             NaN               NaN            NaN   \n",
       "1       0.0             NaN               NaN            NaN   \n",
       "2       0.0             NaN               NaN            NaN   \n",
       "3       0.0             NaN               NaN            NaN   \n",
       "4       0.0             NaN               NaN            NaN   \n",
       "\n",
       "  total_il_high_credit_limit  \n",
       "0                        NaN  \n",
       "1                        NaN  \n",
       "2                        NaN  \n",
       "3                        NaN  \n",
       "4                        NaN  \n",
       "\n",
       "[5 rows x 111 columns]"
      ]
     },
     "execution_count": 3,
     "metadata": {},
     "output_type": "execute_result"
    }
   ],
   "source": [
    "df.head()"
   ]
  },
  {
   "cell_type": "code",
   "execution_count": 4,
   "id": "a2784fac",
   "metadata": {},
   "outputs": [
    {
     "data": {
      "text/plain": [
       "Index(['id', 'member_id', 'loan_amnt', 'funded_amnt', 'funded_amnt_inv',\n",
       "       'term', 'int_rate', 'installment', 'grade', 'sub_grade',\n",
       "       ...\n",
       "       'num_tl_90g_dpd_24m', 'num_tl_op_past_12m', 'pct_tl_nvr_dlq',\n",
       "       'percent_bc_gt_75', 'pub_rec_bankruptcies', 'tax_liens',\n",
       "       'tot_hi_cred_lim', 'total_bal_ex_mort', 'total_bc_limit',\n",
       "       'total_il_high_credit_limit'],\n",
       "      dtype='object', length=111)"
      ]
     },
     "execution_count": 4,
     "metadata": {},
     "output_type": "execute_result"
    }
   ],
   "source": [
    "df.columns"
   ]
  },
  {
   "cell_type": "markdown",
   "id": "aab4ff5e",
   "metadata": {},
   "source": [
    "# Read Data Dictionary"
   ]
  },
  {
   "cell_type": "code",
   "execution_count": 8,
   "id": "e8f8889e",
   "metadata": {},
   "outputs": [],
   "source": [
    "data_dict = pd.read_excel('Data_Dictionary.xlsx')"
   ]
  },
  {
   "cell_type": "code",
   "execution_count": 9,
   "id": "43b3cd88",
   "metadata": {},
   "outputs": [
    {
     "data": {
      "text/html": [
       "<div>\n",
       "<style scoped>\n",
       "    .dataframe tbody tr th:only-of-type {\n",
       "        vertical-align: middle;\n",
       "    }\n",
       "\n",
       "    .dataframe tbody tr th {\n",
       "        vertical-align: top;\n",
       "    }\n",
       "\n",
       "    .dataframe thead th {\n",
       "        text-align: right;\n",
       "    }\n",
       "</style>\n",
       "<table border=\"1\" class=\"dataframe\">\n",
       "  <thead>\n",
       "    <tr style=\"text-align: right;\">\n",
       "      <th></th>\n",
       "      <th>LoanStatNew</th>\n",
       "      <th>Description</th>\n",
       "    </tr>\n",
       "  </thead>\n",
       "  <tbody>\n",
       "    <tr>\n",
       "      <th>0</th>\n",
       "      <td>acc_now_delinq</td>\n",
       "      <td>The number of accounts on which the borrower i...</td>\n",
       "    </tr>\n",
       "    <tr>\n",
       "      <th>1</th>\n",
       "      <td>acc_open_past_24mths</td>\n",
       "      <td>Number of trades opened in past 24 months.</td>\n",
       "    </tr>\n",
       "    <tr>\n",
       "      <th>2</th>\n",
       "      <td>addr_state</td>\n",
       "      <td>The state provided by the borrower in the loan...</td>\n",
       "    </tr>\n",
       "    <tr>\n",
       "      <th>3</th>\n",
       "      <td>all_util</td>\n",
       "      <td>Balance to credit limit on all trades</td>\n",
       "    </tr>\n",
       "    <tr>\n",
       "      <th>4</th>\n",
       "      <td>annual_inc</td>\n",
       "      <td>The self-reported annual income provided by th...</td>\n",
       "    </tr>\n",
       "    <tr>\n",
       "      <th>...</th>\n",
       "      <td>...</td>\n",
       "      <td>...</td>\n",
       "    </tr>\n",
       "    <tr>\n",
       "      <th>112</th>\n",
       "      <td>verification_status</td>\n",
       "      <td>Indicates if income was verified by LC, not ve...</td>\n",
       "    </tr>\n",
       "    <tr>\n",
       "      <th>113</th>\n",
       "      <td>verified_status_joint</td>\n",
       "      <td>Indicates if the co-borrowers' joint income wa...</td>\n",
       "    </tr>\n",
       "    <tr>\n",
       "      <th>114</th>\n",
       "      <td>zip_code</td>\n",
       "      <td>The first 3 numbers of the zip code provided b...</td>\n",
       "    </tr>\n",
       "    <tr>\n",
       "      <th>115</th>\n",
       "      <td>NaN</td>\n",
       "      <td>NaN</td>\n",
       "    </tr>\n",
       "    <tr>\n",
       "      <th>116</th>\n",
       "      <td>NaN</td>\n",
       "      <td>* Employer Title replaces Employer Name for al...</td>\n",
       "    </tr>\n",
       "  </tbody>\n",
       "</table>\n",
       "<p>117 rows × 2 columns</p>\n",
       "</div>"
      ],
      "text/plain": [
       "               LoanStatNew                                        Description\n",
       "0           acc_now_delinq  The number of accounts on which the borrower i...\n",
       "1     acc_open_past_24mths         Number of trades opened in past 24 months.\n",
       "2               addr_state  The state provided by the borrower in the loan...\n",
       "3                 all_util              Balance to credit limit on all trades\n",
       "4               annual_inc  The self-reported annual income provided by th...\n",
       "..                     ...                                                ...\n",
       "112    verification_status  Indicates if income was verified by LC, not ve...\n",
       "113  verified_status_joint  Indicates if the co-borrowers' joint income wa...\n",
       "114               zip_code  The first 3 numbers of the zip code provided b...\n",
       "115                    NaN                                                NaN\n",
       "116                    NaN  * Employer Title replaces Employer Name for al...\n",
       "\n",
       "[117 rows x 2 columns]"
      ]
     },
     "execution_count": 9,
     "metadata": {},
     "output_type": "execute_result"
    }
   ],
   "source": [
    "data_dict"
   ]
  },
  {
   "cell_type": "markdown",
   "id": "da390503",
   "metadata": {},
   "source": [
    "# Data Cleaning"
   ]
  },
  {
   "cell_type": "markdown",
   "id": "25f23fc9",
   "metadata": {},
   "source": [
    "we can drop the records with loan status = current \n",
    "as the loan is currently in progress and cannot contribute \n",
    "to conclusive evidence if the customer will default of pay in future"
   ]
  },
  {
   "cell_type": "markdown",
   "id": "7cd095f0",
   "metadata": {},
   "source": [
    "## Drop rows where loan status = current"
   ]
  },
  {
   "cell_type": "code",
   "execution_count": 10,
   "id": "257f45ce",
   "metadata": {},
   "outputs": [
    {
     "data": {
      "text/plain": [
       "39717"
      ]
     },
     "execution_count": 10,
     "metadata": {},
     "output_type": "execute_result"
    }
   ],
   "source": [
    "prev_rows = len(df)\n",
    "prev_rows"
   ]
  },
  {
   "cell_type": "code",
   "execution_count": 11,
   "id": "4dd4ad38",
   "metadata": {},
   "outputs": [],
   "source": [
    "df = df[df['loan_status'] != \"Current\"]"
   ]
  },
  {
   "cell_type": "code",
   "execution_count": 12,
   "id": "b63c1155",
   "metadata": {},
   "outputs": [
    {
     "data": {
      "text/plain": [
       "38577"
      ]
     },
     "execution_count": 12,
     "metadata": {},
     "output_type": "execute_result"
    }
   ],
   "source": [
    "current_rows = len(df)\n",
    "current_rows"
   ]
  },
  {
   "cell_type": "markdown",
   "id": "1bf0949a",
   "metadata": {},
   "source": [
    "## Delete columns which are null for all the rows"
   ]
  },
  {
   "cell_type": "code",
   "execution_count": 13,
   "id": "ce1c974f",
   "metadata": {},
   "outputs": [
    {
     "data": {
      "text/plain": [
       "dtype('float64')"
      ]
     },
     "execution_count": 13,
     "metadata": {},
     "output_type": "execute_result"
    }
   ],
   "source": [
    "round(100*df.isnull().mean(),2).dtype"
   ]
  },
  {
   "cell_type": "code",
   "execution_count": 14,
   "id": "faa018c8",
   "metadata": {},
   "outputs": [],
   "source": [
    "null_cols =df.columns[df.isna().all()].tolist()"
   ]
  },
  {
   "cell_type": "code",
   "execution_count": 15,
   "id": "51921050",
   "metadata": {},
   "outputs": [],
   "source": [
    "df = df.drop(null_cols, axis=1)"
   ]
  },
  {
   "cell_type": "code",
   "execution_count": 16,
   "id": "2f547b35",
   "metadata": {},
   "outputs": [
    {
     "data": {
      "text/plain": [
       "(38577, 56)"
      ]
     },
     "execution_count": 16,
     "metadata": {},
     "output_type": "execute_result"
    }
   ],
   "source": [
    "df.shape"
   ]
  },
  {
   "cell_type": "markdown",
   "id": "08ac9404",
   "metadata": {},
   "source": [
    "## Percentage of missing values in each column"
   ]
  },
  {
   "cell_type": "code",
   "execution_count": 17,
   "id": "04ce39e6",
   "metadata": {},
   "outputs": [
    {
     "data": {
      "text/plain": [
       "id                             0.00\n",
       "member_id                      0.00\n",
       "loan_amnt                      0.00\n",
       "funded_amnt                    0.00\n",
       "funded_amnt_inv                0.00\n",
       "term                           0.00\n",
       "int_rate                       0.00\n",
       "installment                    0.00\n",
       "grade                          0.00\n",
       "sub_grade                      0.00\n",
       "emp_title                      6.19\n",
       "emp_length                     2.68\n",
       "home_ownership                 0.00\n",
       "annual_inc                     0.00\n",
       "verification_status            0.00\n",
       "issue_d                        0.00\n",
       "loan_status                    0.00\n",
       "pymnt_plan                     0.00\n",
       "url                            0.00\n",
       "desc                          32.47\n",
       "purpose                        0.00\n",
       "title                          0.03\n",
       "zip_code                       0.00\n",
       "addr_state                     0.00\n",
       "dti                            0.00\n",
       "delinq_2yrs                    0.00\n",
       "earliest_cr_line               0.00\n",
       "inq_last_6mths                 0.00\n",
       "mths_since_last_delinq        64.56\n",
       "mths_since_last_record        92.90\n",
       "open_acc                       0.00\n",
       "pub_rec                        0.00\n",
       "revol_bal                      0.00\n",
       "revol_util                     0.13\n",
       "total_acc                      0.00\n",
       "initial_list_status            0.00\n",
       "out_prncp                      0.00\n",
       "out_prncp_inv                  0.00\n",
       "total_pymnt                    0.00\n",
       "total_pymnt_inv                0.00\n",
       "total_rec_prncp                0.00\n",
       "total_rec_int                  0.00\n",
       "total_rec_late_fee             0.00\n",
       "recoveries                     0.00\n",
       "collection_recovery_fee        0.00\n",
       "last_pymnt_d                   0.18\n",
       "last_pymnt_amnt                0.00\n",
       "last_credit_pull_d             0.01\n",
       "collections_12_mths_ex_med     0.15\n",
       "policy_code                    0.00\n",
       "application_type               0.00\n",
       "acc_now_delinq                 0.00\n",
       "chargeoff_within_12_mths       0.15\n",
       "delinq_amnt                    0.00\n",
       "pub_rec_bankruptcies           1.81\n",
       "tax_liens                      0.10\n",
       "dtype: float64"
      ]
     },
     "execution_count": 17,
     "metadata": {},
     "output_type": "execute_result"
    }
   ],
   "source": [
    "round(100*df.isnull().mean(),2)"
   ]
  },
  {
   "cell_type": "markdown",
   "id": "5539cb73",
   "metadata": {},
   "source": [
    "## dropping columns where null percentage is more than 60"
   ]
  },
  {
   "cell_type": "code",
   "execution_count": 19,
   "id": "97b1a7a8",
   "metadata": {},
   "outputs": [],
   "source": [
    "df=df.drop(['mths_since_last_delinq','mths_since_last_record'],axis=1)"
   ]
  },
  {
   "cell_type": "code",
   "execution_count": 20,
   "id": "e101e991",
   "metadata": {},
   "outputs": [
    {
     "data": {
      "text/plain": [
       "(38577, 54)"
      ]
     },
     "execution_count": 20,
     "metadata": {},
     "output_type": "execute_result"
    }
   ],
   "source": [
    "df.shape"
   ]
  },
  {
   "cell_type": "code",
   "execution_count": 21,
   "id": "86925c1a",
   "metadata": {},
   "outputs": [
    {
     "data": {
      "text/plain": [
       "id                             0.00\n",
       "member_id                      0.00\n",
       "loan_amnt                      0.00\n",
       "funded_amnt                    0.00\n",
       "funded_amnt_inv                0.00\n",
       "term                           0.00\n",
       "int_rate                       0.00\n",
       "installment                    0.00\n",
       "grade                          0.00\n",
       "sub_grade                      0.00\n",
       "emp_title                      6.19\n",
       "emp_length                     2.68\n",
       "home_ownership                 0.00\n",
       "annual_inc                     0.00\n",
       "verification_status            0.00\n",
       "issue_d                        0.00\n",
       "loan_status                    0.00\n",
       "pymnt_plan                     0.00\n",
       "url                            0.00\n",
       "desc                          32.47\n",
       "purpose                        0.00\n",
       "title                          0.03\n",
       "zip_code                       0.00\n",
       "addr_state                     0.00\n",
       "dti                            0.00\n",
       "delinq_2yrs                    0.00\n",
       "earliest_cr_line               0.00\n",
       "inq_last_6mths                 0.00\n",
       "open_acc                       0.00\n",
       "pub_rec                        0.00\n",
       "revol_bal                      0.00\n",
       "revol_util                     0.13\n",
       "total_acc                      0.00\n",
       "initial_list_status            0.00\n",
       "out_prncp                      0.00\n",
       "out_prncp_inv                  0.00\n",
       "total_pymnt                    0.00\n",
       "total_pymnt_inv                0.00\n",
       "total_rec_prncp                0.00\n",
       "total_rec_int                  0.00\n",
       "total_rec_late_fee             0.00\n",
       "recoveries                     0.00\n",
       "collection_recovery_fee        0.00\n",
       "last_pymnt_d                   0.18\n",
       "last_pymnt_amnt                0.00\n",
       "last_credit_pull_d             0.01\n",
       "collections_12_mths_ex_med     0.15\n",
       "policy_code                    0.00\n",
       "application_type               0.00\n",
       "acc_now_delinq                 0.00\n",
       "chargeoff_within_12_mths       0.15\n",
       "delinq_amnt                    0.00\n",
       "pub_rec_bankruptcies           1.81\n",
       "tax_liens                      0.10\n",
       "dtype: float64"
      ]
     },
     "execution_count": 21,
     "metadata": {},
     "output_type": "execute_result"
    }
   ],
   "source": [
    "round(100*df.isnull().mean(),2)"
   ]
  },
  {
   "cell_type": "markdown",
   "id": "dd739f61",
   "metadata": {},
   "source": [
    "## analyse desc attribute which has 32% null values"
   ]
  },
  {
   "cell_type": "code",
   "execution_count": 22,
   "id": "0d665f01",
   "metadata": {},
   "outputs": [
    {
     "data": {
      "text/plain": [
       "dtype('O')"
      ]
     },
     "execution_count": 22,
     "metadata": {},
     "output_type": "execute_result"
    }
   ],
   "source": [
    "df.desc.dtype"
   ]
  },
  {
   "cell_type": "code",
   "execution_count": 23,
   "id": "4b57f9cf",
   "metadata": {},
   "outputs": [
    {
     "data": {
      "text/plain": [
       "                                                                                                                                                                                                                                                                                                                                                                                                                                                                                                                                                                                                                                                      209\n",
       "Debt Consolidation                                                                                                                                                                                                                                                                                                                                                                                                                                                                                                                                                                                                                                      8\n",
       "Camping Membership                                                                                                                                                                                                                                                                                                                                                                                                                                                                                                                                                                                                                                      6\n",
       "credit card consolidation                                                                                                                                                                                                                                                                                                                                                                                                                                                                                                                                                                                                                               3\n",
       "credit card debt consolidation                                                                                                                                                                                                                                                                                                                                                                                                                                                                                                                                                                                                                          3\n",
       "                                                                                                                                                                                                                                                                                                                                                                                                                                                                                                                                                                                                                                                     ... \n",
       "  Borrower added on 04/26/11 > I'm getting married on Sunday, May 29th.  I can't wait to start my new life with my lovely bride!  I am in need of last minute cash. I thank you in advance for supporting me. I am planning to pay off in 18-24 months max. Thanks again!<br/>                                                                                                                                                                                                                                                                                                                                                                          1\n",
       "  Borrower added on 04/27/11 > I'm a successful, self-employed music teacher... the only catch is that I didn't realize last year that I needed to be making estimated tax payments, so now I'm really behind with the IRS!  This loan will help me make the IRS happy immediately, while making my payments fit easily into my monthly budget (which the IRS' payment plans would not allow).  I look forward to making my estimated payments from now on so I'm never in this position again!<br/><br/>I love that I'll be paying interest into your pocket, instead of giving it all to some evil bank. Thank you for considering my loan.<br/>      1\n",
       "  Borrower added on 04/27/11 > Just cleaning up some debt and putting it in one payment.<br/> Borrower added on 04/27/11 > Would like to be debt free in 5 years.<br/>Mortgage payment is $660<br/>Credit Cards have $14,000 with a minimum of $350<br/>No car payment<br/>                                                                                                                                                                                                                                                                                                                                                                             1\n",
       "  Borrower added on 04/28/11 > We intend to use this money to purchase a used cruising sailboat. We have half of the needed total in hand; we don't want to miss out on a purchase opportunity while the spring buying season is active. Thanks to all our investors!  :-)<br/> Borrower added on 04/28/11 > I am an ardent sailor and this will be my third, and largest boat. I owned the two previous boats for about 5 years each. I hope to own this one considerably longer!<br/>                                                                                                                                                                 1\n",
       "I plan to consolidate over $7,000 of debt: a combination of credit cards and student loans.                                                                                                                                                                                                                                                                                                                                                                                                                                                                                                                                                             1\n",
       "Name: desc, Length: 25803, dtype: int64"
      ]
     },
     "execution_count": 23,
     "metadata": {},
     "output_type": "execute_result"
    }
   ],
   "source": [
    "df.desc.value_counts()"
   ]
  },
  {
   "cell_type": "markdown",
   "id": "af901a3d",
   "metadata": {},
   "source": [
    "### From the above result, we can see that this is a string attribute and filling the missing values will not help"
   ]
  },
  {
   "cell_type": "code",
   "execution_count": 24,
   "id": "37d33b80",
   "metadata": {},
   "outputs": [],
   "source": [
    "df=df.drop('desc',axis=1)"
   ]
  },
  {
   "cell_type": "code",
   "execution_count": 25,
   "id": "2eb88005",
   "metadata": {},
   "outputs": [
    {
     "data": {
      "text/plain": [
       "(38577, 53)"
      ]
     },
     "execution_count": 25,
     "metadata": {},
     "output_type": "execute_result"
    }
   ],
   "source": [
    "df.shape"
   ]
  },
  {
   "cell_type": "markdown",
   "id": "1ce47d92",
   "metadata": {},
   "source": [
    "## analyse emp_title attribute which has 6% null values"
   ]
  },
  {
   "cell_type": "code",
   "execution_count": 26,
   "id": "4706dbb1",
   "metadata": {},
   "outputs": [
    {
     "data": {
      "text/plain": [
       "dtype('O')"
      ]
     },
     "execution_count": 26,
     "metadata": {},
     "output_type": "execute_result"
    }
   ],
   "source": [
    "df.emp_title.dtype"
   ]
  },
  {
   "cell_type": "code",
   "execution_count": 27,
   "id": "7f0ad3fa",
   "metadata": {},
   "outputs": [
    {
     "data": {
      "text/plain": [
       "US Army                                     131\n",
       "Bank of America                             107\n",
       "IBM                                          65\n",
       "AT&T                                         57\n",
       "Kaiser Permanente                            56\n",
       "                                           ... \n",
       "amneal pharmaceuticals                        1\n",
       "Net Equity Financial                          1\n",
       "Kernersville Fire Department                  1\n",
       "The Keith Corp. (empl by county, now Kei      1\n",
       "Evergreen Center                              1\n",
       "Name: emp_title, Length: 28027, dtype: int64"
      ]
     },
     "execution_count": 27,
     "metadata": {},
     "output_type": "execute_result"
    }
   ],
   "source": [
    "df.emp_title.value_counts()"
   ]
  },
  {
   "cell_type": "markdown",
   "id": "f2236e3d",
   "metadata": {},
   "source": [
    "### From the above result, we can see that this is a string attribute and filling the missing values will not help"
   ]
  },
  {
   "cell_type": "code",
   "execution_count": 28,
   "id": "bf9b6cac",
   "metadata": {},
   "outputs": [],
   "source": [
    "df = df.drop('emp_title',axis=1)"
   ]
  },
  {
   "cell_type": "code",
   "execution_count": 29,
   "id": "25f55051",
   "metadata": {},
   "outputs": [
    {
     "data": {
      "text/plain": [
       "(38577, 52)"
      ]
     },
     "execution_count": 29,
     "metadata": {},
     "output_type": "execute_result"
    }
   ],
   "source": [
    "df.shape"
   ]
  },
  {
   "cell_type": "markdown",
   "id": "03193ea4",
   "metadata": {},
   "source": [
    "## analyse emp_length attribute which has 2% null values"
   ]
  },
  {
   "cell_type": "code",
   "execution_count": 30,
   "id": "12df5cad",
   "metadata": {},
   "outputs": [
    {
     "data": {
      "text/plain": [
       "dtype('O')"
      ]
     },
     "execution_count": 30,
     "metadata": {},
     "output_type": "execute_result"
    }
   ],
   "source": [
    "df.emp_length.dtype"
   ]
  },
  {
   "cell_type": "code",
   "execution_count": 31,
   "id": "6bf34d22",
   "metadata": {},
   "outputs": [
    {
     "data": {
      "text/plain": [
       "10+ years    8488\n",
       "< 1 year     4508\n",
       "2 years      4291\n",
       "3 years      4012\n",
       "4 years      3342\n",
       "5 years      3194\n",
       "1 year       3169\n",
       "6 years      2168\n",
       "7 years      1711\n",
       "8 years      1435\n",
       "9 years      1226\n",
       "Name: emp_length, dtype: int64"
      ]
     },
     "execution_count": 31,
     "metadata": {},
     "output_type": "execute_result"
    }
   ],
   "source": [
    "df.emp_length.value_counts()"
   ]
  },
  {
   "cell_type": "markdown",
   "id": "e63ae0c2",
   "metadata": {},
   "source": [
    "## lets convert this to integer and fill missing values.  we need to remove extra character and retain only numbers"
   ]
  },
  {
   "cell_type": "code",
   "execution_count": 32,
   "id": "31ea77f8",
   "metadata": {},
   "outputs": [],
   "source": [
    "df.emp_length = df.emp_length.str.replace('< ','')"
   ]
  },
  {
   "cell_type": "code",
   "execution_count": 33,
   "id": "46de6b9c",
   "metadata": {},
   "outputs": [],
   "source": [
    "df.emp_length = df.emp_length.str.replace('+','')"
   ]
  },
  {
   "cell_type": "code",
   "execution_count": 34,
   "id": "ef491406",
   "metadata": {},
   "outputs": [
    {
     "data": {
      "text/plain": [
       "10 years    8488\n",
       "1 year      7677\n",
       "2 years     4291\n",
       "3 years     4012\n",
       "4 years     3342\n",
       "5 years     3194\n",
       "6 years     2168\n",
       "7 years     1711\n",
       "8 years     1435\n",
       "9 years     1226\n",
       "Name: emp_length, dtype: int64"
      ]
     },
     "execution_count": 34,
     "metadata": {},
     "output_type": "execute_result"
    }
   ],
   "source": [
    "df.emp_length.value_counts()"
   ]
  },
  {
   "cell_type": "code",
   "execution_count": 35,
   "id": "8dd27a42",
   "metadata": {},
   "outputs": [],
   "source": [
    "df.emp_length = df.emp_length.replace(to_replace=' \\w+', regex=True, value='')"
   ]
  },
  {
   "cell_type": "code",
   "execution_count": 36,
   "id": "7280db9c",
   "metadata": {},
   "outputs": [
    {
     "data": {
      "text/plain": [
       "10    8488\n",
       "1     7677\n",
       "2     4291\n",
       "3     4012\n",
       "4     3342\n",
       "5     3194\n",
       "6     2168\n",
       "7     1711\n",
       "8     1435\n",
       "9     1226\n",
       "Name: emp_length, dtype: int64"
      ]
     },
     "execution_count": 36,
     "metadata": {},
     "output_type": "execute_result"
    }
   ],
   "source": [
    "df.emp_length.value_counts()"
   ]
  },
  {
   "cell_type": "markdown",
   "id": "3bfc6672",
   "metadata": {},
   "source": [
    "### fill missing values with median"
   ]
  },
  {
   "cell_type": "code",
   "execution_count": 37,
   "id": "94055608",
   "metadata": {},
   "outputs": [
    {
     "data": {
      "text/plain": [
       "4.0"
      ]
     },
     "execution_count": 37,
     "metadata": {},
     "output_type": "execute_result"
    }
   ],
   "source": [
    "df.emp_length.median()"
   ]
  },
  {
   "cell_type": "code",
   "execution_count": 38,
   "id": "fbfcc430",
   "metadata": {},
   "outputs": [
    {
     "data": {
      "text/plain": [
       "5.061048369912636"
      ]
     },
     "execution_count": 38,
     "metadata": {},
     "output_type": "execute_result"
    }
   ],
   "source": [
    "df.emp_length.astype('float64').mean()"
   ]
  },
  {
   "cell_type": "code",
   "execution_count": 39,
   "id": "fe109507",
   "metadata": {},
   "outputs": [],
   "source": [
    "df.emp_length = df.emp_length.fillna(df.emp_length.median())"
   ]
  },
  {
   "cell_type": "code",
   "execution_count": 40,
   "id": "418fae54",
   "metadata": {},
   "outputs": [
    {
     "data": {
      "text/plain": [
       "id                            0.00\n",
       "member_id                     0.00\n",
       "loan_amnt                     0.00\n",
       "funded_amnt                   0.00\n",
       "funded_amnt_inv               0.00\n",
       "term                          0.00\n",
       "int_rate                      0.00\n",
       "installment                   0.00\n",
       "grade                         0.00\n",
       "sub_grade                     0.00\n",
       "emp_length                    0.00\n",
       "home_ownership                0.00\n",
       "annual_inc                    0.00\n",
       "verification_status           0.00\n",
       "issue_d                       0.00\n",
       "loan_status                   0.00\n",
       "pymnt_plan                    0.00\n",
       "url                           0.00\n",
       "purpose                       0.00\n",
       "title                         0.03\n",
       "zip_code                      0.00\n",
       "addr_state                    0.00\n",
       "dti                           0.00\n",
       "delinq_2yrs                   0.00\n",
       "earliest_cr_line              0.00\n",
       "inq_last_6mths                0.00\n",
       "open_acc                      0.00\n",
       "pub_rec                       0.00\n",
       "revol_bal                     0.00\n",
       "revol_util                    0.13\n",
       "total_acc                     0.00\n",
       "initial_list_status           0.00\n",
       "out_prncp                     0.00\n",
       "out_prncp_inv                 0.00\n",
       "total_pymnt                   0.00\n",
       "total_pymnt_inv               0.00\n",
       "total_rec_prncp               0.00\n",
       "total_rec_int                 0.00\n",
       "total_rec_late_fee            0.00\n",
       "recoveries                    0.00\n",
       "collection_recovery_fee       0.00\n",
       "last_pymnt_d                  0.18\n",
       "last_pymnt_amnt               0.00\n",
       "last_credit_pull_d            0.01\n",
       "collections_12_mths_ex_med    0.15\n",
       "policy_code                   0.00\n",
       "application_type              0.00\n",
       "acc_now_delinq                0.00\n",
       "chargeoff_within_12_mths      0.15\n",
       "delinq_amnt                   0.00\n",
       "pub_rec_bankruptcies          1.81\n",
       "tax_liens                     0.10\n",
       "dtype: float64"
      ]
     },
     "execution_count": 40,
     "metadata": {},
     "output_type": "execute_result"
    }
   ],
   "source": [
    "round(100*df.isnull().mean(),2)"
   ]
  },
  {
   "cell_type": "markdown",
   "id": "4ce0f01a",
   "metadata": {},
   "source": [
    "### analyse pub_rec_bankruptcies attribute which has 1.81% null values"
   ]
  },
  {
   "cell_type": "code",
   "execution_count": 41,
   "id": "747db8fd",
   "metadata": {},
   "outputs": [
    {
     "data": {
      "text/plain": [
       "dtype('float64')"
      ]
     },
     "execution_count": 41,
     "metadata": {},
     "output_type": "execute_result"
    }
   ],
   "source": [
    "df.pub_rec_bankruptcies.dtype"
   ]
  },
  {
   "cell_type": "code",
   "execution_count": 42,
   "id": "6e352b2b",
   "metadata": {},
   "outputs": [
    {
     "data": {
      "text/plain": [
       "0.0    36238\n",
       "1.0     1637\n",
       "2.0        5\n",
       "Name: pub_rec_bankruptcies, dtype: int64"
      ]
     },
     "execution_count": 42,
     "metadata": {},
     "output_type": "execute_result"
    }
   ],
   "source": [
    "df.pub_rec_bankruptcies.value_counts()"
   ]
  },
  {
   "cell_type": "code",
   "execution_count": 43,
   "id": "9bb14e9a",
   "metadata": {},
   "outputs": [
    {
     "data": {
      "text/plain": [
       "0.04347940865892291"
      ]
     },
     "execution_count": 43,
     "metadata": {},
     "output_type": "execute_result"
    }
   ],
   "source": [
    "df.pub_rec_bankruptcies.mean()"
   ]
  },
  {
   "cell_type": "code",
   "execution_count": 44,
   "id": "c376fbc3",
   "metadata": {},
   "outputs": [
    {
     "data": {
      "text/plain": [
       "0.0"
      ]
     },
     "execution_count": 44,
     "metadata": {},
     "output_type": "execute_result"
    }
   ],
   "source": [
    "df.pub_rec_bankruptcies.median()"
   ]
  },
  {
   "cell_type": "code",
   "execution_count": 45,
   "id": "faaea56a",
   "metadata": {},
   "outputs": [],
   "source": [
    "df.pub_rec_bankruptcies = df.pub_rec_bankruptcies.fillna(df.pub_rec_bankruptcies.median())"
   ]
  },
  {
   "cell_type": "code",
   "execution_count": 46,
   "id": "a3813bc3",
   "metadata": {},
   "outputs": [
    {
     "data": {
      "text/plain": [
       "id                            0.00\n",
       "member_id                     0.00\n",
       "loan_amnt                     0.00\n",
       "funded_amnt                   0.00\n",
       "funded_amnt_inv               0.00\n",
       "term                          0.00\n",
       "int_rate                      0.00\n",
       "installment                   0.00\n",
       "grade                         0.00\n",
       "sub_grade                     0.00\n",
       "emp_length                    0.00\n",
       "home_ownership                0.00\n",
       "annual_inc                    0.00\n",
       "verification_status           0.00\n",
       "issue_d                       0.00\n",
       "loan_status                   0.00\n",
       "pymnt_plan                    0.00\n",
       "url                           0.00\n",
       "purpose                       0.00\n",
       "title                         0.03\n",
       "zip_code                      0.00\n",
       "addr_state                    0.00\n",
       "dti                           0.00\n",
       "delinq_2yrs                   0.00\n",
       "earliest_cr_line              0.00\n",
       "inq_last_6mths                0.00\n",
       "open_acc                      0.00\n",
       "pub_rec                       0.00\n",
       "revol_bal                     0.00\n",
       "revol_util                    0.13\n",
       "total_acc                     0.00\n",
       "initial_list_status           0.00\n",
       "out_prncp                     0.00\n",
       "out_prncp_inv                 0.00\n",
       "total_pymnt                   0.00\n",
       "total_pymnt_inv               0.00\n",
       "total_rec_prncp               0.00\n",
       "total_rec_int                 0.00\n",
       "total_rec_late_fee            0.00\n",
       "recoveries                    0.00\n",
       "collection_recovery_fee       0.00\n",
       "last_pymnt_d                  0.18\n",
       "last_pymnt_amnt               0.00\n",
       "last_credit_pull_d            0.01\n",
       "collections_12_mths_ex_med    0.15\n",
       "policy_code                   0.00\n",
       "application_type              0.00\n",
       "acc_now_delinq                0.00\n",
       "chargeoff_within_12_mths      0.15\n",
       "delinq_amnt                   0.00\n",
       "pub_rec_bankruptcies          0.00\n",
       "tax_liens                     0.10\n",
       "dtype: float64"
      ]
     },
     "execution_count": 46,
     "metadata": {},
     "output_type": "execute_result"
    }
   ],
   "source": [
    "round(100*df.isnull().mean(),2)"
   ]
  },
  {
   "cell_type": "markdown",
   "id": "f8918f24",
   "metadata": {},
   "source": [
    "#### Now that the percentage of missing values are negligible, we can drop these."
   ]
  },
  {
   "cell_type": "code",
   "execution_count": 47,
   "id": "4a0c9797",
   "metadata": {},
   "outputs": [],
   "source": [
    "df = df[df['collections_12_mths_ex_med'].notna()]\n",
    "df = df[df['title'].notna()]\n",
    "df = df[df['revol_util'].notna()]\n",
    "df = df[df['last_pymnt_d'].notna()]\n",
    "df = df[df['last_credit_pull_d'].notna()]\n",
    "df = df[df['tax_liens'].notna()]\n",
    "df = df[df['chargeoff_within_12_mths'].notna()]\n"
   ]
  },
  {
   "cell_type": "code",
   "execution_count": 48,
   "id": "0d2276c4",
   "metadata": {},
   "outputs": [
    {
     "data": {
      "text/plain": [
       "id                            0.0\n",
       "member_id                     0.0\n",
       "loan_amnt                     0.0\n",
       "funded_amnt                   0.0\n",
       "funded_amnt_inv               0.0\n",
       "term                          0.0\n",
       "int_rate                      0.0\n",
       "installment                   0.0\n",
       "grade                         0.0\n",
       "sub_grade                     0.0\n",
       "emp_length                    0.0\n",
       "home_ownership                0.0\n",
       "annual_inc                    0.0\n",
       "verification_status           0.0\n",
       "issue_d                       0.0\n",
       "loan_status                   0.0\n",
       "pymnt_plan                    0.0\n",
       "url                           0.0\n",
       "purpose                       0.0\n",
       "title                         0.0\n",
       "zip_code                      0.0\n",
       "addr_state                    0.0\n",
       "dti                           0.0\n",
       "delinq_2yrs                   0.0\n",
       "earliest_cr_line              0.0\n",
       "inq_last_6mths                0.0\n",
       "open_acc                      0.0\n",
       "pub_rec                       0.0\n",
       "revol_bal                     0.0\n",
       "revol_util                    0.0\n",
       "total_acc                     0.0\n",
       "initial_list_status           0.0\n",
       "out_prncp                     0.0\n",
       "out_prncp_inv                 0.0\n",
       "total_pymnt                   0.0\n",
       "total_pymnt_inv               0.0\n",
       "total_rec_prncp               0.0\n",
       "total_rec_int                 0.0\n",
       "total_rec_late_fee            0.0\n",
       "recoveries                    0.0\n",
       "collection_recovery_fee       0.0\n",
       "last_pymnt_d                  0.0\n",
       "last_pymnt_amnt               0.0\n",
       "last_credit_pull_d            0.0\n",
       "collections_12_mths_ex_med    0.0\n",
       "policy_code                   0.0\n",
       "application_type              0.0\n",
       "acc_now_delinq                0.0\n",
       "chargeoff_within_12_mths      0.0\n",
       "delinq_amnt                   0.0\n",
       "pub_rec_bankruptcies          0.0\n",
       "tax_liens                     0.0\n",
       "dtype: float64"
      ]
     },
     "execution_count": 48,
     "metadata": {},
     "output_type": "execute_result"
    }
   ],
   "source": [
    "round(100*df.isnull().mean(),2)"
   ]
  },
  {
   "cell_type": "markdown",
   "id": "fa328858",
   "metadata": {},
   "source": [
    "#### We do not have any null values for any of the attributes. Next we can start analysing the different attributes available and filter out the ones which are not required for analysis"
   ]
  },
  {
   "cell_type": "markdown",
   "id": "290e39e8",
   "metadata": {},
   "source": [
    "###### member_id is a unique identifier and can be dropped."
   ]
  },
  {
   "cell_type": "code",
   "execution_count": 50,
   "id": "61506108",
   "metadata": {},
   "outputs": [],
   "source": [
    "df =df.drop(['member_id'],axis=1)"
   ]
  },
  {
   "cell_type": "code",
   "execution_count": 51,
   "id": "03a9acdd",
   "metadata": {},
   "outputs": [
    {
     "data": {
      "text/plain": [
       "(38391, 51)"
      ]
     },
     "execution_count": 51,
     "metadata": {},
     "output_type": "execute_result"
    }
   ],
   "source": [
    "df.shape"
   ]
  },
  {
   "cell_type": "markdown",
   "id": "b27aedeb",
   "metadata": {},
   "source": [
    "###### we can Drop text/description columns which wont contribute to overall analysis"
   ]
  },
  {
   "cell_type": "code",
   "execution_count": 52,
   "id": "29afa8a0",
   "metadata": {},
   "outputs": [],
   "source": [
    "df = df.drop(['url', 'title'],  axis=1)"
   ]
  },
  {
   "cell_type": "code",
   "execution_count": 53,
   "id": "1ad52e38",
   "metadata": {},
   "outputs": [
    {
     "data": {
      "text/plain": [
       "(38391, 49)"
      ]
     },
     "execution_count": 53,
     "metadata": {},
     "output_type": "execute_result"
    }
   ],
   "source": [
    "df.shape"
   ]
  },
  {
   "cell_type": "markdown",
   "id": "d540969f",
   "metadata": {},
   "source": [
    "### identify attributes with constant values and drop them"
   ]
  },
  {
   "cell_type": "code",
   "execution_count": 55,
   "id": "d0806c25",
   "metadata": {},
   "outputs": [
    {
     "data": {
      "text/plain": [
       "n    38391\n",
       "Name: pymnt_plan, dtype: int64"
      ]
     },
     "execution_count": 55,
     "metadata": {},
     "output_type": "execute_result"
    }
   ],
   "source": [
    "df.pymnt_plan.value_counts()"
   ]
  },
  {
   "cell_type": "code",
   "execution_count": 56,
   "id": "74b7d22d",
   "metadata": {},
   "outputs": [
    {
     "data": {
      "text/plain": [
       "f    38391\n",
       "Name: initial_list_status, dtype: int64"
      ]
     },
     "execution_count": 56,
     "metadata": {},
     "output_type": "execute_result"
    }
   ],
   "source": [
    "df.initial_list_status.value_counts()"
   ]
  },
  {
   "cell_type": "code",
   "execution_count": 57,
   "id": "ab171025",
   "metadata": {},
   "outputs": [
    {
     "data": {
      "text/plain": [
       "0.0    38391\n",
       "Name: collections_12_mths_ex_med, dtype: int64"
      ]
     },
     "execution_count": 57,
     "metadata": {},
     "output_type": "execute_result"
    }
   ],
   "source": [
    "df.collections_12_mths_ex_med.value_counts()"
   ]
  },
  {
   "cell_type": "code",
   "execution_count": 58,
   "id": "3281d002",
   "metadata": {},
   "outputs": [
    {
     "data": {
      "text/plain": [
       "0.0    38391\n",
       "Name: chargeoff_within_12_mths, dtype: int64"
      ]
     },
     "execution_count": 58,
     "metadata": {},
     "output_type": "execute_result"
    }
   ],
   "source": [
    "df.chargeoff_within_12_mths.value_counts()"
   ]
  },
  {
   "cell_type": "code",
   "execution_count": 59,
   "id": "1d622a44",
   "metadata": {},
   "outputs": [
    {
     "data": {
      "text/plain": [
       "0.0    38391\n",
       "Name: tax_liens, dtype: int64"
      ]
     },
     "execution_count": 59,
     "metadata": {},
     "output_type": "execute_result"
    }
   ],
   "source": [
    "df.tax_liens.value_counts()"
   ]
  },
  {
   "cell_type": "code",
   "execution_count": 60,
   "id": "211f1a43",
   "metadata": {},
   "outputs": [],
   "source": [
    "df = df.drop(['pymnt_plan','initial_list_status','collections_12_mths_ex_med','policy_code','chargeoff_within_12_mths','tax_liens'],axis=1)"
   ]
  },
  {
   "cell_type": "code",
   "execution_count": 61,
   "id": "c2afa7db",
   "metadata": {},
   "outputs": [
    {
     "data": {
      "text/plain": [
       "(38391, 43)"
      ]
     },
     "execution_count": 61,
     "metadata": {},
     "output_type": "execute_result"
    }
   ],
   "source": [
    "df.shape"
   ]
  },
  {
   "cell_type": "code",
   "execution_count": 62,
   "id": "e612cf0d",
   "metadata": {},
   "outputs": [
    {
     "data": {
      "text/plain": [
       "Index(['id', 'loan_amnt', 'funded_amnt', 'funded_amnt_inv', 'term', 'int_rate',\n",
       "       'installment', 'grade', 'sub_grade', 'emp_length', 'home_ownership',\n",
       "       'annual_inc', 'verification_status', 'issue_d', 'loan_status',\n",
       "       'purpose', 'zip_code', 'addr_state', 'dti', 'delinq_2yrs',\n",
       "       'earliest_cr_line', 'inq_last_6mths', 'open_acc', 'pub_rec',\n",
       "       'revol_bal', 'revol_util', 'total_acc', 'out_prncp', 'out_prncp_inv',\n",
       "       'total_pymnt', 'total_pymnt_inv', 'total_rec_prncp', 'total_rec_int',\n",
       "       'total_rec_late_fee', 'recoveries', 'collection_recovery_fee',\n",
       "       'last_pymnt_d', 'last_pymnt_amnt', 'last_credit_pull_d',\n",
       "       'application_type', 'acc_now_delinq', 'delinq_amnt',\n",
       "       'pub_rec_bankruptcies'],\n",
       "      dtype='object')"
      ]
     },
     "execution_count": 62,
     "metadata": {},
     "output_type": "execute_result"
    }
   ],
   "source": [
    "df.columns"
   ]
  },
  {
   "cell_type": "markdown",
   "id": "39782c57",
   "metadata": {},
   "source": [
    "# Data Conversion"
   ]
  },
  {
   "cell_type": "code",
   "execution_count": 63,
   "id": "da9a112d",
   "metadata": {},
   "outputs": [
    {
     "data": {
      "text/plain": [
       "id                           int64\n",
       "loan_amnt                    int64\n",
       "funded_amnt                  int64\n",
       "funded_amnt_inv            float64\n",
       "term                        object\n",
       "int_rate                    object\n",
       "installment                float64\n",
       "grade                       object\n",
       "sub_grade                   object\n",
       "emp_length                  object\n",
       "home_ownership              object\n",
       "annual_inc                 float64\n",
       "verification_status         object\n",
       "issue_d                     object\n",
       "loan_status                 object\n",
       "purpose                     object\n",
       "zip_code                    object\n",
       "addr_state                  object\n",
       "dti                        float64\n",
       "delinq_2yrs                  int64\n",
       "earliest_cr_line            object\n",
       "inq_last_6mths               int64\n",
       "open_acc                     int64\n",
       "pub_rec                      int64\n",
       "revol_bal                    int64\n",
       "revol_util                  object\n",
       "total_acc                    int64\n",
       "out_prncp                  float64\n",
       "out_prncp_inv              float64\n",
       "total_pymnt                float64\n",
       "total_pymnt_inv            float64\n",
       "total_rec_prncp            float64\n",
       "total_rec_int              float64\n",
       "total_rec_late_fee         float64\n",
       "recoveries                 float64\n",
       "collection_recovery_fee    float64\n",
       "last_pymnt_d                object\n",
       "last_pymnt_amnt            float64\n",
       "last_credit_pull_d          object\n",
       "application_type            object\n",
       "acc_now_delinq               int64\n",
       "delinq_amnt                  int64\n",
       "pub_rec_bankruptcies       float64\n",
       "dtype: object"
      ]
     },
     "execution_count": 63,
     "metadata": {},
     "output_type": "execute_result"
    }
   ],
   "source": [
    "df.dtypes"
   ]
  },
  {
   "cell_type": "markdown",
   "id": "3c870192",
   "metadata": {},
   "source": [
    "## Convert term from string to integer"
   ]
  },
  {
   "cell_type": "code",
   "execution_count": 64,
   "id": "708f0eb2",
   "metadata": {},
   "outputs": [],
   "source": [
    "df.term = df.term.apply(lambda x : int(x[:-7]))"
   ]
  },
  {
   "cell_type": "code",
   "execution_count": 65,
   "id": "b66ec69c",
   "metadata": {},
   "outputs": [],
   "source": [
    "df.int_rate = df.int_rate.apply(lambda x : float(x[:-1]))"
   ]
  },
  {
   "cell_type": "markdown",
   "id": "320d8937",
   "metadata": {},
   "source": [
    "## convert string to datetime"
   ]
  },
  {
   "cell_type": "code",
   "execution_count": 66,
   "id": "de21cda3",
   "metadata": {},
   "outputs": [],
   "source": [
    "df.issue_d = pd.to_datetime(df.issue_d,format='%b-%y')"
   ]
  },
  {
   "cell_type": "code",
   "execution_count": 67,
   "id": "777c4e25",
   "metadata": {},
   "outputs": [
    {
     "data": {
      "text/plain": [
       "0       2011-12-01\n",
       "1       2011-12-01\n",
       "2       2011-12-01\n",
       "3       2011-12-01\n",
       "5       2011-12-01\n",
       "           ...    \n",
       "39661   2007-08-01\n",
       "39662   2007-08-01\n",
       "39663   2007-08-01\n",
       "39664   2007-08-01\n",
       "39665   2007-08-01\n",
       "Name: issue_d, Length: 38391, dtype: datetime64[ns]"
      ]
     },
     "execution_count": 67,
     "metadata": {},
     "output_type": "execute_result"
    }
   ],
   "source": [
    "df.issue_d"
   ]
  },
  {
   "cell_type": "markdown",
   "id": "739171d2",
   "metadata": {},
   "source": [
    "## converting loan amt and funded amt to fload to perform math operations like mean"
   ]
  },
  {
   "cell_type": "code",
   "execution_count": 68,
   "id": "4e824e32",
   "metadata": {},
   "outputs": [],
   "source": [
    "df.loan_amnt = df.loan_amnt.astype('float64')"
   ]
  },
  {
   "cell_type": "code",
   "execution_count": 69,
   "id": "937acb35",
   "metadata": {},
   "outputs": [],
   "source": [
    "df.funded_amnt = df.funded_amnt.astype('float64')"
   ]
  },
  {
   "cell_type": "code",
   "execution_count": 70,
   "id": "eb429436",
   "metadata": {},
   "outputs": [
    {
     "data": {
      "text/plain": [
       "35000.0    600\n",
       "34800.0      2\n",
       "34675.0      1\n",
       "34525.0      1\n",
       "34475.0      5\n",
       "          ... \n",
       "900.0        2\n",
       "800.0        1\n",
       "750.0        1\n",
       "725.0        1\n",
       "500.0        5\n",
       "Name: loan_amnt, Length: 869, dtype: int64"
      ]
     },
     "execution_count": 70,
     "metadata": {},
     "output_type": "execute_result"
    }
   ],
   "source": [
    "df.loan_amnt.value_counts().sort_index(ascending=False)"
   ]
  },
  {
   "cell_type": "markdown",
   "id": "3a395ee8",
   "metadata": {},
   "source": [
    "# Derived Metrics"
   ]
  },
  {
   "cell_type": "markdown",
   "id": "e135e872",
   "metadata": {},
   "source": [
    "### Adding additional column for Year and Month for analysis extrating Year and Month from issue_d"
   ]
  },
  {
   "cell_type": "code",
   "execution_count": 71,
   "id": "05a6fa5a",
   "metadata": {},
   "outputs": [],
   "source": [
    "df['issue_year'] = pd.DatetimeIndex(df.issue_d).year\n",
    "df['issue_month'] = pd.DatetimeIndex(df.issue_d).month"
   ]
  },
  {
   "cell_type": "code",
   "execution_count": 72,
   "id": "53c91bf1",
   "metadata": {
    "scrolled": true
   },
   "outputs": [
    {
     "data": {
      "text/html": [
       "<div>\n",
       "<style scoped>\n",
       "    .dataframe tbody tr th:only-of-type {\n",
       "        vertical-align: middle;\n",
       "    }\n",
       "\n",
       "    .dataframe tbody tr th {\n",
       "        vertical-align: top;\n",
       "    }\n",
       "\n",
       "    .dataframe thead th {\n",
       "        text-align: right;\n",
       "    }\n",
       "</style>\n",
       "<table border=\"1\" class=\"dataframe\">\n",
       "  <thead>\n",
       "    <tr style=\"text-align: right;\">\n",
       "      <th></th>\n",
       "      <th>id</th>\n",
       "      <th>loan_amnt</th>\n",
       "      <th>funded_amnt</th>\n",
       "      <th>funded_amnt_inv</th>\n",
       "      <th>term</th>\n",
       "      <th>int_rate</th>\n",
       "      <th>installment</th>\n",
       "      <th>grade</th>\n",
       "      <th>sub_grade</th>\n",
       "      <th>emp_length</th>\n",
       "      <th>...</th>\n",
       "      <th>collection_recovery_fee</th>\n",
       "      <th>last_pymnt_d</th>\n",
       "      <th>last_pymnt_amnt</th>\n",
       "      <th>last_credit_pull_d</th>\n",
       "      <th>application_type</th>\n",
       "      <th>acc_now_delinq</th>\n",
       "      <th>delinq_amnt</th>\n",
       "      <th>pub_rec_bankruptcies</th>\n",
       "      <th>issue_year</th>\n",
       "      <th>issue_month</th>\n",
       "    </tr>\n",
       "  </thead>\n",
       "  <tbody>\n",
       "    <tr>\n",
       "      <th>0</th>\n",
       "      <td>1077501</td>\n",
       "      <td>5000.0</td>\n",
       "      <td>5000.0</td>\n",
       "      <td>4975.0</td>\n",
       "      <td>36</td>\n",
       "      <td>10.65</td>\n",
       "      <td>162.87</td>\n",
       "      <td>B</td>\n",
       "      <td>B2</td>\n",
       "      <td>10</td>\n",
       "      <td>...</td>\n",
       "      <td>0.0</td>\n",
       "      <td>Jan-15</td>\n",
       "      <td>171.62</td>\n",
       "      <td>May-16</td>\n",
       "      <td>INDIVIDUAL</td>\n",
       "      <td>0</td>\n",
       "      <td>0</td>\n",
       "      <td>0.0</td>\n",
       "      <td>2011</td>\n",
       "      <td>12</td>\n",
       "    </tr>\n",
       "  </tbody>\n",
       "</table>\n",
       "<p>1 rows × 45 columns</p>\n",
       "</div>"
      ],
      "text/plain": [
       "        id  loan_amnt  funded_amnt  funded_amnt_inv  term  int_rate  \\\n",
       "0  1077501     5000.0       5000.0           4975.0    36     10.65   \n",
       "\n",
       "   installment grade sub_grade emp_length  ... collection_recovery_fee  \\\n",
       "0       162.87     B        B2         10  ...                     0.0   \n",
       "\n",
       "   last_pymnt_d last_pymnt_amnt last_credit_pull_d application_type  \\\n",
       "0        Jan-15          171.62             May-16       INDIVIDUAL   \n",
       "\n",
       "  acc_now_delinq delinq_amnt pub_rec_bankruptcies  issue_year  issue_month  \n",
       "0              0           0                  0.0        2011           12  \n",
       "\n",
       "[1 rows x 45 columns]"
      ]
     },
     "execution_count": 72,
     "metadata": {},
     "output_type": "execute_result"
    }
   ],
   "source": [
    "df.head(1)"
   ]
  },
  {
   "cell_type": "markdown",
   "id": "deede354",
   "metadata": {},
   "source": [
    "### Create bucket for Annual Income"
   ]
  },
  {
   "cell_type": "code",
   "execution_count": 73,
   "id": "28c335f8",
   "metadata": {},
   "outputs": [],
   "source": [
    "# Bucketing Annual Income\n",
    "def bucket_annual_inc(column):\n",
    "    if column <= 40000:\n",
    "        return '0 - 40k' # 25% quartile\n",
    "    elif (column >40000) and (column <= 50000):\n",
    "        return '40k - 50k'    \n",
    "    elif (column >50000) and (column <= 60000):\n",
    "        return '50k to 60k'\n",
    "    elif (column >60000) and (column <= 70000):\n",
    "        return '60k to 70k'\n",
    "    elif (column >70000) and (column <= 80000):\n",
    "        return '70k to 80k'\n",
    "    else:\n",
    "        return '80k - above' # 75% quartile\n",
    "\n",
    "df['annual_inc_bucket'] = df.apply(lambda x: bucket_annual_inc(x['annual_inc']), axis = 1)"
   ]
  },
  {
   "cell_type": "markdown",
   "id": "98f44445",
   "metadata": {},
   "source": [
    "# Univariate Analysis"
   ]
  },
  {
   "cell_type": "markdown",
   "id": "d2d926be",
   "metadata": {},
   "source": [
    "##### Now that we are done with cleaning and conversion, we can plot graphs and begin the analysis"
   ]
  },
  {
   "cell_type": "markdown",
   "id": "84eb7fa8",
   "metadata": {},
   "source": [
    "## Numerical"
   ]
  },
  {
   "cell_type": "markdown",
   "id": "7f3164c3",
   "metadata": {},
   "source": [
    "#### Loan Amount"
   ]
  },
  {
   "cell_type": "code",
   "execution_count": 74,
   "id": "1b12da86",
   "metadata": {},
   "outputs": [
    {
     "data": {
      "text/plain": [
       "count    38391.000000\n",
       "mean     11067.764580\n",
       "std       7348.003041\n",
       "min        500.000000\n",
       "25%       5400.000000\n",
       "50%       9775.000000\n",
       "75%      15000.000000\n",
       "max      35000.000000\n",
       "Name: loan_amnt, dtype: float64"
      ]
     },
     "execution_count": 74,
     "metadata": {},
     "output_type": "execute_result"
    }
   ],
   "source": [
    "df.loan_amnt.describe()"
   ]
  },
  {
   "cell_type": "code",
   "execution_count": 75,
   "id": "e7362f7b",
   "metadata": {},
   "outputs": [
    {
     "data": {
      "image/png": "[encoded data removed]",
      "text/plain": [
       "<Figure size 432x288 with 1 Axes>"
      ]
     },
     "metadata": {
      "needs_background": "light"
     },
     "output_type": "display_data"
    }
   ],
   "source": [
    "sns.boxplot(df.loan_amnt)\n",
    "plt.show()"
   ]
  },
  {
   "cell_type": "code",
   "execution_count": 76,
   "id": "f6674bda",
   "metadata": {},
   "outputs": [
    {
     "data": {
      "image/png": "[encoded data removed]",
      "text/plain": [
       "<Figure size 432x288 with 1 Axes>"
      ]
     },
     "metadata": {
      "needs_background": "light"
     },
     "output_type": "display_data"
    }
   ],
   "source": [
    "sns.distplot(df.loan_amnt)\n",
    "plt.show()"
   ]
  },
  {
   "cell_type": "markdown",
   "id": "95284dd9",
   "metadata": {},
   "source": [
    "##### Majority of the loan amount lies between 5k to 15k"
   ]
  },
  {
   "cell_type": "markdown",
   "id": "7840b361",
   "metadata": {},
   "source": [
    "### Funded Amount"
   ]
  },
  {
   "cell_type": "code",
   "execution_count": 77,
   "id": "2560e8b6",
   "metadata": {},
   "outputs": [
    {
     "data": {
      "text/plain": [
       "count    38391.000000\n",
       "mean     10803.752833\n",
       "std       7089.611563\n",
       "min        500.000000\n",
       "25%       5200.000000\n",
       "50%       9600.000000\n",
       "75%      15000.000000\n",
       "max      35000.000000\n",
       "Name: funded_amnt, dtype: float64"
      ]
     },
     "execution_count": 77,
     "metadata": {},
     "output_type": "execute_result"
    }
   ],
   "source": [
    "df.funded_amnt.describe()"
   ]
  },
  {
   "cell_type": "code",
   "execution_count": 78,
   "id": "76063188",
   "metadata": {
    "scrolled": false
   },
   "outputs": [
    {
     "data": {
      "image/png": "[encoded data removed]",
      "text/plain": [
       "<Figure size 432x288 with 1 Axes>"
      ]
     },
     "metadata": {
      "needs_background": "light"
     },
     "output_type": "display_data"
    }
   ],
   "source": [
    "sns.boxplot(df.funded_amnt)\n",
    "plt.show()"
   ]
  },
  {
   "cell_type": "code",
   "execution_count": 79,
   "id": "f18522bb",
   "metadata": {},
   "outputs": [
    {
     "data": {
      "image/png": "[encoded data removed]",
      "text/plain": [
       "<Figure size 432x288 with 1 Axes>"
      ]
     },
     "metadata": {
      "needs_background": "light"
     },
     "output_type": "display_data"
    }
   ],
   "source": [
    "sns.distplot(df.funded_amnt)\n",
    "plt.show()"
   ]
  },
  {
   "cell_type": "markdown",
   "id": "5fe8dcf3",
   "metadata": {},
   "source": [
    "##### Majority of the funded amount lies between 5k to 15k"
   ]
  },
  {
   "cell_type": "markdown",
   "id": "593e0d01",
   "metadata": {},
   "source": [
    "### Annual Income"
   ]
  },
  {
   "cell_type": "code",
   "execution_count": 80,
   "id": "15c56c82",
   "metadata": {
    "scrolled": true
   },
   "outputs": [
    {
     "data": {
      "text/plain": [
       "count    3.839100e+04\n",
       "mean     6.882415e+04\n",
       "std      6.426417e+04\n",
       "min      4.000000e+03\n",
       "25%      4.000000e+04\n",
       "50%      5.900000e+04\n",
       "75%      8.200000e+04\n",
       "max      6.000000e+06\n",
       "Name: annual_inc, dtype: float64"
      ]
     },
     "execution_count": 80,
     "metadata": {},
     "output_type": "execute_result"
    }
   ],
   "source": [
    "df.annual_inc.describe()"
   ]
  },
  {
   "cell_type": "markdown",
   "id": "dcd12c8e",
   "metadata": {},
   "source": [
    "###### let us remove the outliers and see the result again"
   ]
  },
  {
   "cell_type": "code",
   "execution_count": 81,
   "id": "916b8494",
   "metadata": {},
   "outputs": [],
   "source": [
    "df = df[df.annual_inc < df.annual_inc.quantile(0.99)]"
   ]
  },
  {
   "cell_type": "code",
   "execution_count": 82,
   "id": "0f4101d0",
   "metadata": {},
   "outputs": [
    {
     "data": {
      "text/plain": [
       "count     38007.000000\n",
       "mean      65358.126212\n",
       "std       35102.921248\n",
       "min        4000.000000\n",
       "25%       40000.000000\n",
       "50%       58000.000000\n",
       "75%       80400.000000\n",
       "max      234000.000000\n",
       "Name: annual_inc, dtype: float64"
      ]
     },
     "execution_count": 82,
     "metadata": {},
     "output_type": "execute_result"
    }
   ],
   "source": [
    "df.annual_inc.describe()"
   ]
  },
  {
   "cell_type": "code",
   "execution_count": 83,
   "id": "ec9072c5",
   "metadata": {
    "scrolled": false
   },
   "outputs": [
    {
     "data": {
      "image/png": "[encoded data removed]",
      "text/plain": [
       "<Figure size 432x288 with 1 Axes>"
      ]
     },
     "metadata": {
      "needs_background": "light"
     },
     "output_type": "display_data"
    }
   ],
   "source": [
    "sns.boxplot(df.annual_inc)\n",
    "plt.show()"
   ]
  },
  {
   "cell_type": "code",
   "execution_count": 84,
   "id": "1ba183c7",
   "metadata": {},
   "outputs": [
    {
     "data": {
      "image/png": "[encoded data removed]",
      "text/plain": [
       "<Figure size 432x288 with 1 Axes>"
      ]
     },
     "metadata": {
      "needs_background": "light"
     },
     "output_type": "display_data"
    }
   ],
   "source": [
    "sns.distplot(df.annual_inc)\n",
    "plt.show()"
   ]
  },
  {
   "cell_type": "markdown",
   "id": "43571b6f",
   "metadata": {},
   "source": [
    "###### Majority of the data lies between 35K to 80K"
   ]
  },
  {
   "cell_type": "markdown",
   "id": "13443c9b",
   "metadata": {},
   "source": [
    "### Interest Rate"
   ]
  },
  {
   "cell_type": "code",
   "execution_count": 85,
   "id": "35873997",
   "metadata": {
    "scrolled": true
   },
   "outputs": [
    {
     "data": {
      "text/plain": [
       "count    38007.000000\n",
       "mean        11.912543\n",
       "std          3.683682\n",
       "min          5.420000\n",
       "25%          8.940000\n",
       "50%         11.710000\n",
       "75%         14.350000\n",
       "max         24.400000\n",
       "Name: int_rate, dtype: float64"
      ]
     },
     "execution_count": 85,
     "metadata": {},
     "output_type": "execute_result"
    }
   ],
   "source": [
    "df.int_rate.describe()"
   ]
  },
  {
   "cell_type": "code",
   "execution_count": 86,
   "id": "3d62e884",
   "metadata": {},
   "outputs": [
    {
     "data": {
      "image/png": "[encoded data removed]",
      "text/plain": [
       "<Figure size 432x288 with 1 Axes>"
      ]
     },
     "metadata": {
      "needs_background": "light"
     },
     "output_type": "display_data"
    }
   ],
   "source": [
    "sns.boxplot(df.int_rate)\n",
    "plt.show()"
   ]
  },
  {
   "cell_type": "code",
   "execution_count": 87,
   "id": "73572c9d",
   "metadata": {},
   "outputs": [
    {
     "data": {
      "image/png": "[encoded data removed]",
      "text/plain": [
       "<Figure size 432x288 with 1 Axes>"
      ]
     },
     "metadata": {
      "needs_background": "light"
     },
     "output_type": "display_data"
    }
   ],
   "source": [
    "sns.distplot(df.int_rate)\n",
    "plt.show()"
   ]
  },
  {
   "cell_type": "markdown",
   "id": "56c39410",
   "metadata": {},
   "source": [
    "##### Majority of the data lies in the rage of 7% to 14%"
   ]
  },
  {
   "cell_type": "markdown",
   "id": "04051c72",
   "metadata": {},
   "source": [
    "### Installment"
   ]
  },
  {
   "cell_type": "code",
   "execution_count": 88,
   "id": "a9def88a",
   "metadata": {},
   "outputs": [
    {
     "data": {
      "text/plain": [
       "count    38007.000000\n",
       "mean       320.459803\n",
       "std        205.934677\n",
       "min         15.690000\n",
       "25%        165.740000\n",
       "50%        276.950000\n",
       "75%        422.330000\n",
       "max       1305.190000\n",
       "Name: installment, dtype: float64"
      ]
     },
     "execution_count": 88,
     "metadata": {},
     "output_type": "execute_result"
    }
   ],
   "source": [
    "df.installment.describe()"
   ]
  },
  {
   "cell_type": "code",
   "execution_count": 89,
   "id": "3185aae7",
   "metadata": {},
   "outputs": [
    {
     "data": {
      "image/png": "[encoded data removed]",
      "text/plain": [
       "<Figure size 432x288 with 1 Axes>"
      ]
     },
     "metadata": {
      "needs_background": "light"
     },
     "output_type": "display_data"
    }
   ],
   "source": [
    "sns.boxplot(df.installment)\n",
    "plt.show()"
   ]
  },
  {
   "cell_type": "code",
   "execution_count": 90,
   "id": "b15b976b",
   "metadata": {},
   "outputs": [
    {
     "data": {
      "image/png": "[encoded data removed]",
      "text/plain": [
       "<Figure size 432x288 with 1 Axes>"
      ]
     },
     "metadata": {
      "needs_background": "light"
     },
     "output_type": "display_data"
    }
   ],
   "source": [
    "sns.distplot(df.installment)\n",
    "plt.show()"
   ]
  },
  {
   "cell_type": "markdown",
   "id": "fd87a0a7",
   "metadata": {},
   "source": [
    "##### Majority of the data lies in the rage of 150  to 400"
   ]
  },
  {
   "cell_type": "markdown",
   "id": "7b8a07d9",
   "metadata": {},
   "source": [
    "### Debt To Income Ratio"
   ]
  },
  {
   "cell_type": "code",
   "execution_count": 91,
   "id": "6044adcd",
   "metadata": {},
   "outputs": [
    {
     "data": {
      "text/plain": [
       "count    38007.000000\n",
       "mean        13.346982\n",
       "std          6.653329\n",
       "min          0.000000\n",
       "25%          8.230000\n",
       "50%         13.440000\n",
       "75%         18.610000\n",
       "max         29.990000\n",
       "Name: dti, dtype: float64"
      ]
     },
     "execution_count": 91,
     "metadata": {},
     "output_type": "execute_result"
    }
   ],
   "source": [
    "df.dti.describe()"
   ]
  },
  {
   "cell_type": "code",
   "execution_count": 92,
   "id": "ca17c9a4",
   "metadata": {},
   "outputs": [
    {
     "data": {
      "image/png": "[encoded data removed]",
      "text/plain": [
       "<Figure size 432x288 with 1 Axes>"
      ]
     },
     "metadata": {
      "needs_background": "light"
     },
     "output_type": "display_data"
    }
   ],
   "source": [
    "sns.boxplot(df.dti)\n",
    "plt.show()"
   ]
  },
  {
   "cell_type": "code",
   "execution_count": 93,
   "id": "ec7a8580",
   "metadata": {},
   "outputs": [
    {
     "data": {
      "image/png": "[encoded data removed]",
      "text/plain": [
       "<Figure size 432x288 with 1 Axes>"
      ]
     },
     "metadata": {
      "needs_background": "light"
     },
     "output_type": "display_data"
    }
   ],
   "source": [
    "sns.distplot(df.dti)\n",
    "plt.show()"
   ]
  },
  {
   "cell_type": "markdown",
   "id": "75858fff",
   "metadata": {},
   "source": [
    "##### Majority of the data is in 0-25"
   ]
  },
  {
   "cell_type": "markdown",
   "id": "9c55126b",
   "metadata": {},
   "source": [
    "## Categorical"
   ]
  },
  {
   "cell_type": "markdown",
   "id": "e8857eed",
   "metadata": {},
   "source": [
    "### Home Ownership"
   ]
  },
  {
   "cell_type": "code",
   "execution_count": 94,
   "id": "ea9d8a43",
   "metadata": {},
   "outputs": [
    {
     "data": {
      "image/png": "[encoded data removed]",
      "text/plain": [
       "<Figure size 432x288 with 1 Axes>"
      ]
     },
     "metadata": {
      "needs_background": "light"
     },
     "output_type": "display_data"
    }
   ],
   "source": [
    "df.home_ownership.value_counts().plot.bar()\n",
    "plt.show()"
   ]
  },
  {
   "cell_type": "markdown",
   "id": "d7653412",
   "metadata": {},
   "source": [
    "###### Majority are in Rent and Mortgage"
   ]
  },
  {
   "cell_type": "markdown",
   "id": "efd4f02b",
   "metadata": {},
   "source": [
    "### Purpose"
   ]
  },
  {
   "cell_type": "code",
   "execution_count": 95,
   "id": "43c9a1c8",
   "metadata": {},
   "outputs": [
    {
     "data": {
      "image/png": "[encoded data removed]",
      "text/plain": [
       "<Figure size 432x288 with 1 Axes>"
      ]
     },
     "metadata": {
      "needs_background": "light"
     },
     "output_type": "display_data"
    }
   ],
   "source": [
    "df.purpose.value_counts().plot.bar()\n",
    "plt.show()"
   ]
  },
  {
   "cell_type": "markdown",
   "id": "55705314",
   "metadata": {},
   "source": [
    "###### Majority of the loan applicants are in debt_consolidation category"
   ]
  },
  {
   "cell_type": "markdown",
   "id": "a5d99eb7",
   "metadata": {},
   "source": [
    "### Address State"
   ]
  },
  {
   "cell_type": "code",
   "execution_count": 96,
   "id": "354a07f7",
   "metadata": {},
   "outputs": [
    {
     "data": {
      "image/png": "[encoded data removed]",
      "text/plain": [
       "<Figure size 720x576 with 1 Axes>"
      ]
     },
     "metadata": {
      "needs_background": "light"
     },
     "output_type": "display_data"
    }
   ],
   "source": [
    "plt.figure(figsize=(10,8))\n",
    "df.addr_state.value_counts().plot.bar()\n",
    "plt.show()"
   ]
  },
  {
   "cell_type": "markdown",
   "id": "ed0e42d1",
   "metadata": {},
   "source": [
    "###### Majority of the loan applicants are from California"
   ]
  },
  {
   "cell_type": "markdown",
   "id": "22ae8afe",
   "metadata": {},
   "source": [
    "### Term"
   ]
  },
  {
   "cell_type": "code",
   "execution_count": 97,
   "id": "4a476ba5",
   "metadata": {},
   "outputs": [
    {
     "data": {
      "image/png": "[encoded data removed]",
      "text/plain": [
       "<Figure size 432x288 with 1 Axes>"
      ]
     },
     "metadata": {
      "needs_background": "light"
     },
     "output_type": "display_data"
    }
   ],
   "source": [
    "df.term.value_counts().plot.bar()\n",
    "plt.show()"
   ]
  },
  {
   "cell_type": "markdown",
   "id": "55cb03c3",
   "metadata": {},
   "source": [
    "###### Majority of loan applicanttions have a term of 36 months"
   ]
  },
  {
   "cell_type": "markdown",
   "id": "60ba1282",
   "metadata": {},
   "source": [
    "### Grade"
   ]
  },
  {
   "cell_type": "code",
   "execution_count": 98,
   "id": "a7506a7b",
   "metadata": {},
   "outputs": [
    {
     "data": {
      "image/png": "[encoded data removed]",
      "text/plain": [
       "<Figure size 432x288 with 1 Axes>"
      ]
     },
     "metadata": {
      "needs_background": "light"
     },
     "output_type": "display_data"
    }
   ],
   "source": [
    "df.grade.value_counts().plot.bar()\n",
    "plt.show()"
   ]
  },
  {
   "cell_type": "markdown",
   "id": "962c93e0",
   "metadata": {},
   "source": [
    "###### Majority of loan applications fall in Grade B"
   ]
  },
  {
   "cell_type": "markdown",
   "id": "80f0e1c2",
   "metadata": {},
   "source": [
    "### Employment Length"
   ]
  },
  {
   "cell_type": "code",
   "execution_count": 99,
   "id": "5de7ddff",
   "metadata": {},
   "outputs": [
    {
     "data": {
      "image/png": "[encoded data removed]",
      "text/plain": [
       "<Figure size 432x288 with 1 Axes>"
      ]
     },
     "metadata": {
      "needs_background": "light"
     },
     "output_type": "display_data"
    }
   ],
   "source": [
    "df.emp_length.value_counts().plot.bar()\n",
    "plt.show()"
   ]
  },
  {
   "cell_type": "markdown",
   "id": "5b571b8d",
   "metadata": {},
   "source": [
    "###### Majority of loan applications have employment length of 10+ years"
   ]
  },
  {
   "cell_type": "markdown",
   "id": "a35f3697",
   "metadata": {},
   "source": [
    "### Loan Issued Year"
   ]
  },
  {
   "cell_type": "code",
   "execution_count": 100,
   "id": "1cbeb601",
   "metadata": {},
   "outputs": [
    {
     "data": {
      "image/png": "[encoded data removed]",
      "text/plain": [
       "<Figure size 432x288 with 1 Axes>"
      ]
     },
     "metadata": {
      "needs_background": "light"
     },
     "output_type": "display_data"
    }
   ],
   "source": [
    "df.issue_year.value_counts().plot.bar()\n",
    "plt.show()"
   ]
  },
  {
   "cell_type": "markdown",
   "id": "e3c7b9f0",
   "metadata": {},
   "source": [
    "###### Maximum loan applications are from 2011 and they are increasing year on year"
   ]
  },
  {
   "cell_type": "markdown",
   "id": "089db680",
   "metadata": {},
   "source": [
    "### Loan Issued Month"
   ]
  },
  {
   "cell_type": "code",
   "execution_count": 101,
   "id": "d148bb8b",
   "metadata": {},
   "outputs": [
    {
     "data": {
      "image/png": "[encoded data removed]",
      "text/plain": [
       "<Figure size 432x288 with 1 Axes>"
      ]
     },
     "metadata": {
      "needs_background": "light"
     },
     "output_type": "display_data"
    }
   ],
   "source": [
    "df.issue_month.value_counts().plot.bar()\n",
    "plt.show()"
   ]
  },
  {
   "cell_type": "markdown",
   "id": "468e1773",
   "metadata": {},
   "source": [
    "###### This shows that the applications increase by end of the year and drop down at the start of the year"
   ]
  },
  {
   "cell_type": "markdown",
   "id": "8c6b2314",
   "metadata": {},
   "source": [
    "# Bivariate Analysis"
   ]
  },
  {
   "cell_type": "markdown",
   "id": "68514ec2",
   "metadata": {},
   "source": [
    "### Functions to get ratios of different columns affecting loan_status"
   ]
  },
  {
   "cell_type": "code",
   "execution_count": 122,
   "id": "5b9cc69e",
   "metadata": {},
   "outputs": [],
   "source": [
    "def ratio_wise(df, column):\n",
    "    rw = df.pivot_table(index=column, columns='loan_status', values='id', aggfunc=len).reset_index()\n",
    "    rw['total'] = rw['Charged Off'] + rw['Fully Paid']\n",
    "    rw['charge_off_ratio'] = round(rw['Charged Off'] / rw['total'] * 100)\n",
    "    rw.sort_values(by='total', ascending=False)\n",
    "    return rw\n",
    "\n",
    "def ratio_wise_plot(df, column, invert=False):\n",
    "    plt.figure(figsize=[25,8])\n",
    "    plt.title('Charged Off : ' + column)\n",
    "    rw = ratio_wise(df, column)\n",
    "    if invert:\n",
    "        sns.barplot(rw['charge_off_ratio'], rw[column])\n",
    "    else:\n",
    "        sns.barplot(rw[column], rw['charge_off_ratio'])\n",
    "    plt.tight_layout()\n",
    "    plt.show()\n",
    "    return rw"
   ]
  },
  {
   "cell_type": "markdown",
   "id": "481adb19",
   "metadata": {},
   "source": [
    "### term vs loan status"
   ]
  },
  {
   "cell_type": "code",
   "execution_count": 103,
   "id": "6494ac8b",
   "metadata": {
    "scrolled": true
   },
   "outputs": [
    {
     "data": {
      "image/png": "[encoded data removed]",
      "text/plain": [
       "<Figure size 432x288 with 1 Axes>"
      ]
     },
     "metadata": {
      "needs_background": "light"
     },
     "output_type": "display_data"
    }
   ],
   "source": [
    "sns.countplot(x='term', hue='loan_status', data=df)\n",
    "plt.show()"
   ]
  },
  {
   "cell_type": "code",
   "execution_count": 104,
   "id": "04eaa8f1",
   "metadata": {
    "scrolled": false
   },
   "outputs": [
    {
     "data": {
      "image/png": "[encoded data removed]",
      "text/plain": [
       "<Figure size 576x432 with 1 Axes>"
      ]
     },
     "metadata": {
      "needs_background": "light"
     },
     "output_type": "display_data"
    },
    {
     "data": {
      "text/html": [
       "<div>\n",
       "<style scoped>\n",
       "    .dataframe tbody tr th:only-of-type {\n",
       "        vertical-align: middle;\n",
       "    }\n",
       "\n",
       "    .dataframe tbody tr th {\n",
       "        vertical-align: top;\n",
       "    }\n",
       "\n",
       "    .dataframe thead th {\n",
       "        text-align: right;\n",
       "    }\n",
       "</style>\n",
       "<table border=\"1\" class=\"dataframe\">\n",
       "  <thead>\n",
       "    <tr style=\"text-align: right;\">\n",
       "      <th>loan_status</th>\n",
       "      <th>term</th>\n",
       "      <th>Charged Off</th>\n",
       "      <th>Fully Paid</th>\n",
       "      <th>total</th>\n",
       "      <th>charge_off_ratio</th>\n",
       "    </tr>\n",
       "  </thead>\n",
       "  <tbody>\n",
       "    <tr>\n",
       "      <th>0</th>\n",
       "      <td>36</td>\n",
       "      <td>3131</td>\n",
       "      <td>25528</td>\n",
       "      <td>28659</td>\n",
       "      <td>11.0</td>\n",
       "    </tr>\n",
       "    <tr>\n",
       "      <th>1</th>\n",
       "      <td>60</td>\n",
       "      <td>2361</td>\n",
       "      <td>6987</td>\n",
       "      <td>9348</td>\n",
       "      <td>25.0</td>\n",
       "    </tr>\n",
       "  </tbody>\n",
       "</table>\n",
       "</div>"
      ],
      "text/plain": [
       "loan_status  term  Charged Off  Fully Paid  total  charge_off_ratio\n",
       "0              36         3131       25528  28659              11.0\n",
       "1              60         2361        6987   9348              25.0"
      ]
     },
     "execution_count": 104,
     "metadata": {},
     "output_type": "execute_result"
    }
   ],
   "source": [
    "ratio_wise_plot(df, 'term')"
   ]
  },
  {
   "attachments": {},
   "cell_type": "markdown",
   "id": "9cf2ce69",
   "metadata": {},
   "source": [
    "***\n",
    "- Majority of loans are in the category of term 36.\n",
    "- Charge Offs ratio for the term 60 is 25% whereas term 36 is 10%\n",
    "\n",
    "**Inference:**\t\n",
    "- Charge Offs are higher for the loan applications with term 60\n",
    "***"
   ]
  },
  {
   "cell_type": "markdown",
   "id": "5cb58f43",
   "metadata": {},
   "source": [
    "### grade vs loan status"
   ]
  },
  {
   "cell_type": "code",
   "execution_count": 105,
   "id": "ec5fb40b",
   "metadata": {},
   "outputs": [
    {
     "data": {
      "image/png": "[encoded data removed]",
      "text/plain": [
       "<Figure size 432x288 with 1 Axes>"
      ]
     },
     "metadata": {
      "needs_background": "light"
     },
     "output_type": "display_data"
    }
   ],
   "source": [
    "sns.countplot(x='grade', hue='loan_status', data=df)\n",
    "plt.show()"
   ]
  },
  {
   "cell_type": "code",
   "execution_count": 106,
   "id": "857a71db",
   "metadata": {
    "scrolled": false
   },
   "outputs": [
    {
     "data": {
      "image/png": "[encoded data removed]",
      "text/plain": [
       "<Figure size 576x432 with 1 Axes>"
      ]
     },
     "metadata": {
      "needs_background": "light"
     },
     "output_type": "display_data"
    },
    {
     "data": {
      "text/html": [
       "<div>\n",
       "<style scoped>\n",
       "    .dataframe tbody tr th:only-of-type {\n",
       "        vertical-align: middle;\n",
       "    }\n",
       "\n",
       "    .dataframe tbody tr th {\n",
       "        vertical-align: top;\n",
       "    }\n",
       "\n",
       "    .dataframe thead th {\n",
       "        text-align: right;\n",
       "    }\n",
       "</style>\n",
       "<table border=\"1\" class=\"dataframe\">\n",
       "  <thead>\n",
       "    <tr style=\"text-align: right;\">\n",
       "      <th>loan_status</th>\n",
       "      <th>grade</th>\n",
       "      <th>Charged Off</th>\n",
       "      <th>Fully Paid</th>\n",
       "      <th>total</th>\n",
       "      <th>charge_off_ratio</th>\n",
       "    </tr>\n",
       "  </thead>\n",
       "  <tbody>\n",
       "    <tr>\n",
       "      <th>0</th>\n",
       "      <td>A</td>\n",
       "      <td>595</td>\n",
       "      <td>9353</td>\n",
       "      <td>9948</td>\n",
       "      <td>6.0</td>\n",
       "    </tr>\n",
       "    <tr>\n",
       "      <th>1</th>\n",
       "      <td>B</td>\n",
       "      <td>1397</td>\n",
       "      <td>10151</td>\n",
       "      <td>11548</td>\n",
       "      <td>12.0</td>\n",
       "    </tr>\n",
       "    <tr>\n",
       "      <th>2</th>\n",
       "      <td>C</td>\n",
       "      <td>1311</td>\n",
       "      <td>6390</td>\n",
       "      <td>7701</td>\n",
       "      <td>17.0</td>\n",
       "    </tr>\n",
       "    <tr>\n",
       "      <th>3</th>\n",
       "      <td>D</td>\n",
       "      <td>1095</td>\n",
       "      <td>3897</td>\n",
       "      <td>4992</td>\n",
       "      <td>22.0</td>\n",
       "    </tr>\n",
       "    <tr>\n",
       "      <th>4</th>\n",
       "      <td>E</td>\n",
       "      <td>691</td>\n",
       "      <td>1897</td>\n",
       "      <td>2588</td>\n",
       "      <td>27.0</td>\n",
       "    </tr>\n",
       "    <tr>\n",
       "      <th>5</th>\n",
       "      <td>F</td>\n",
       "      <td>308</td>\n",
       "      <td>637</td>\n",
       "      <td>945</td>\n",
       "      <td>33.0</td>\n",
       "    </tr>\n",
       "    <tr>\n",
       "      <th>6</th>\n",
       "      <td>G</td>\n",
       "      <td>95</td>\n",
       "      <td>190</td>\n",
       "      <td>285</td>\n",
       "      <td>33.0</td>\n",
       "    </tr>\n",
       "  </tbody>\n",
       "</table>\n",
       "</div>"
      ],
      "text/plain": [
       "loan_status grade  Charged Off  Fully Paid  total  charge_off_ratio\n",
       "0               A          595        9353   9948               6.0\n",
       "1               B         1397       10151  11548              12.0\n",
       "2               C         1311        6390   7701              17.0\n",
       "3               D         1095        3897   4992              22.0\n",
       "4               E          691        1897   2588              27.0\n",
       "5               F          308         637    945              33.0\n",
       "6               G           95         190    285              33.0"
      ]
     },
     "execution_count": 106,
     "metadata": {},
     "output_type": "execute_result"
    }
   ],
   "source": [
    "ratio_wise_plot(df, 'grade')"
   ]
  },
  {
   "attachments": {},
   "cell_type": "markdown",
   "id": "3373b029",
   "metadata": {},
   "source": [
    "***\n",
    "- Majority of loan application is from grade B.\n",
    "- Charge Offs are higher for grades B and C.\n",
    "- But the ratio of Charge Offs are higher for grades F and G.\n",
    "\n",
    "**Inferences:**\n",
    "- Lower the grade, higher the possibility of charge off.\n",
    "***"
   ]
  },
  {
   "cell_type": "markdown",
   "id": "6b25449a",
   "metadata": {},
   "source": [
    "### emp_length vs loan status"
   ]
  },
  {
   "cell_type": "code",
   "execution_count": 107,
   "id": "2d660b6c",
   "metadata": {},
   "outputs": [
    {
     "data": {
      "image/png": "[encoded data removed]",
      "text/plain": [
       "<Figure size 432x288 with 1 Axes>"
      ]
     },
     "metadata": {
      "needs_background": "light"
     },
     "output_type": "display_data"
    }
   ],
   "source": [
    "sns.countplot(x='emp_length', hue='loan_status', data=df)\n",
    "plt.show()"
   ]
  },
  {
   "cell_type": "code",
   "execution_count": 108,
   "id": "a619809a",
   "metadata": {
    "scrolled": false
   },
   "outputs": [
    {
     "data": {
      "image/png": "[encoded data removed]",
      "text/plain": [
       "<Figure size 576x432 with 1 Axes>"
      ]
     },
     "metadata": {
      "needs_background": "light"
     },
     "output_type": "display_data"
    },
    {
     "data": {
      "text/html": [
       "<div>\n",
       "<style scoped>\n",
       "    .dataframe tbody tr th:only-of-type {\n",
       "        vertical-align: middle;\n",
       "    }\n",
       "\n",
       "    .dataframe tbody tr th {\n",
       "        vertical-align: top;\n",
       "    }\n",
       "\n",
       "    .dataframe thead th {\n",
       "        text-align: right;\n",
       "    }\n",
       "</style>\n",
       "<table border=\"1\" class=\"dataframe\">\n",
       "  <thead>\n",
       "    <tr style=\"text-align: right;\">\n",
       "      <th>loan_status</th>\n",
       "      <th>emp_length</th>\n",
       "      <th>Charged Off</th>\n",
       "      <th>Fully Paid</th>\n",
       "      <th>total</th>\n",
       "      <th>charge_off_ratio</th>\n",
       "    </tr>\n",
       "  </thead>\n",
       "  <tbody>\n",
       "    <tr>\n",
       "      <th>0</th>\n",
       "      <td>4.0</td>\n",
       "      <td>220</td>\n",
       "      <td>799</td>\n",
       "      <td>1019</td>\n",
       "      <td>22.0</td>\n",
       "    </tr>\n",
       "    <tr>\n",
       "      <th>1</th>\n",
       "      <td>1</td>\n",
       "      <td>1064</td>\n",
       "      <td>6494</td>\n",
       "      <td>7558</td>\n",
       "      <td>14.0</td>\n",
       "    </tr>\n",
       "    <tr>\n",
       "      <th>2</th>\n",
       "      <td>10</td>\n",
       "      <td>1306</td>\n",
       "      <td>7034</td>\n",
       "      <td>8340</td>\n",
       "      <td>16.0</td>\n",
       "    </tr>\n",
       "    <tr>\n",
       "      <th>3</th>\n",
       "      <td>2</td>\n",
       "      <td>552</td>\n",
       "      <td>3675</td>\n",
       "      <td>4227</td>\n",
       "      <td>13.0</td>\n",
       "    </tr>\n",
       "    <tr>\n",
       "      <th>4</th>\n",
       "      <td>3</td>\n",
       "      <td>544</td>\n",
       "      <td>3418</td>\n",
       "      <td>3962</td>\n",
       "      <td>14.0</td>\n",
       "    </tr>\n",
       "    <tr>\n",
       "      <th>5</th>\n",
       "      <td>4</td>\n",
       "      <td>447</td>\n",
       "      <td>2849</td>\n",
       "      <td>3296</td>\n",
       "      <td>14.0</td>\n",
       "    </tr>\n",
       "    <tr>\n",
       "      <th>6</th>\n",
       "      <td>5</td>\n",
       "      <td>445</td>\n",
       "      <td>2705</td>\n",
       "      <td>3150</td>\n",
       "      <td>14.0</td>\n",
       "    </tr>\n",
       "    <tr>\n",
       "      <th>7</th>\n",
       "      <td>6</td>\n",
       "      <td>301</td>\n",
       "      <td>1843</td>\n",
       "      <td>2144</td>\n",
       "      <td>14.0</td>\n",
       "    </tr>\n",
       "    <tr>\n",
       "      <th>8</th>\n",
       "      <td>7</td>\n",
       "      <td>261</td>\n",
       "      <td>1429</td>\n",
       "      <td>1690</td>\n",
       "      <td>15.0</td>\n",
       "    </tr>\n",
       "    <tr>\n",
       "      <th>9</th>\n",
       "      <td>8</td>\n",
       "      <td>199</td>\n",
       "      <td>1213</td>\n",
       "      <td>1412</td>\n",
       "      <td>14.0</td>\n",
       "    </tr>\n",
       "    <tr>\n",
       "      <th>10</th>\n",
       "      <td>9</td>\n",
       "      <td>153</td>\n",
       "      <td>1056</td>\n",
       "      <td>1209</td>\n",
       "      <td>13.0</td>\n",
       "    </tr>\n",
       "  </tbody>\n",
       "</table>\n",
       "</div>"
      ],
      "text/plain": [
       "loan_status emp_length  Charged Off  Fully Paid  total  charge_off_ratio\n",
       "0                  4.0          220         799   1019              22.0\n",
       "1                    1         1064        6494   7558              14.0\n",
       "2                   10         1306        7034   8340              16.0\n",
       "3                    2          552        3675   4227              13.0\n",
       "4                    3          544        3418   3962              14.0\n",
       "5                    4          447        2849   3296              14.0\n",
       "6                    5          445        2705   3150              14.0\n",
       "7                    6          301        1843   2144              14.0\n",
       "8                    7          261        1429   1690              15.0\n",
       "9                    8          199        1213   1412              14.0\n",
       "10                   9          153        1056   1209              13.0"
      ]
     },
     "execution_count": 108,
     "metadata": {},
     "output_type": "execute_result"
    }
   ],
   "source": [
    "ratio_wise_plot(df, 'emp_length')"
   ]
  },
  {
   "cell_type": "markdown",
   "id": "c48e7e47",
   "metadata": {},
   "source": [
    "***\n",
    "- Highest Charge Offs are in the employee length categoty of 10 Years and above\n",
    "- Charge Off ratio within the categories itself are similar and inconclusive\n",
    "***"
   ]
  },
  {
   "cell_type": "markdown",
   "id": "dca4a0d8",
   "metadata": {},
   "source": [
    "### home ownership vs loan status"
   ]
  },
  {
   "cell_type": "code",
   "execution_count": 109,
   "id": "7d1ec660",
   "metadata": {},
   "outputs": [
    {
     "data": {
      "image/png": "[encoded data removed]",
      "text/plain": [
       "<Figure size 432x288 with 1 Axes>"
      ]
     },
     "metadata": {
      "needs_background": "light"
     },
     "output_type": "display_data"
    }
   ],
   "source": [
    "sns.countplot(x='home_ownership', hue='loan_status', data=df)\n",
    "plt.show()"
   ]
  },
  {
   "cell_type": "code",
   "execution_count": 110,
   "id": "2c51bbb6",
   "metadata": {
    "scrolled": false
   },
   "outputs": [
    {
     "data": {
      "image/png": "[encoded data removed]",
      "text/plain": [
       "<Figure size 576x432 with 1 Axes>"
      ]
     },
     "metadata": {
      "needs_background": "light"
     },
     "output_type": "display_data"
    },
    {
     "data": {
      "text/html": [
       "<div>\n",
       "<style scoped>\n",
       "    .dataframe tbody tr th:only-of-type {\n",
       "        vertical-align: middle;\n",
       "    }\n",
       "\n",
       "    .dataframe tbody tr th {\n",
       "        vertical-align: top;\n",
       "    }\n",
       "\n",
       "    .dataframe thead th {\n",
       "        text-align: right;\n",
       "    }\n",
       "</style>\n",
       "<table border=\"1\" class=\"dataframe\">\n",
       "  <thead>\n",
       "    <tr style=\"text-align: right;\">\n",
       "      <th>loan_status</th>\n",
       "      <th>home_ownership</th>\n",
       "      <th>Charged Off</th>\n",
       "      <th>Fully Paid</th>\n",
       "      <th>total</th>\n",
       "      <th>charge_off_ratio</th>\n",
       "    </tr>\n",
       "  </thead>\n",
       "  <tbody>\n",
       "    <tr>\n",
       "      <th>0</th>\n",
       "      <td>MORTGAGE</td>\n",
       "      <td>2278.0</td>\n",
       "      <td>14415.0</td>\n",
       "      <td>16693.0</td>\n",
       "      <td>14.0</td>\n",
       "    </tr>\n",
       "    <tr>\n",
       "      <th>1</th>\n",
       "      <td>NONE</td>\n",
       "      <td>NaN</td>\n",
       "      <td>1.0</td>\n",
       "      <td>NaN</td>\n",
       "      <td>NaN</td>\n",
       "    </tr>\n",
       "    <tr>\n",
       "      <th>2</th>\n",
       "      <td>OTHER</td>\n",
       "      <td>18.0</td>\n",
       "      <td>76.0</td>\n",
       "      <td>94.0</td>\n",
       "      <td>19.0</td>\n",
       "    </tr>\n",
       "    <tr>\n",
       "      <th>3</th>\n",
       "      <td>OWN</td>\n",
       "      <td>433.0</td>\n",
       "      <td>2495.0</td>\n",
       "      <td>2928.0</td>\n",
       "      <td>15.0</td>\n",
       "    </tr>\n",
       "    <tr>\n",
       "      <th>4</th>\n",
       "      <td>RENT</td>\n",
       "      <td>2763.0</td>\n",
       "      <td>15528.0</td>\n",
       "      <td>18291.0</td>\n",
       "      <td>15.0</td>\n",
       "    </tr>\n",
       "  </tbody>\n",
       "</table>\n",
       "</div>"
      ],
      "text/plain": [
       "loan_status home_ownership  Charged Off  Fully Paid    total  charge_off_ratio\n",
       "0                 MORTGAGE       2278.0     14415.0  16693.0              14.0\n",
       "1                     NONE          NaN         1.0      NaN               NaN\n",
       "2                    OTHER         18.0        76.0     94.0              19.0\n",
       "3                      OWN        433.0      2495.0   2928.0              15.0\n",
       "4                     RENT       2763.0     15528.0  18291.0              15.0"
      ]
     },
     "execution_count": 110,
     "metadata": {},
     "output_type": "execute_result"
    }
   ],
   "source": [
    "ratio_wise_plot(df, 'home_ownership')"
   ]
  },
  {
   "cell_type": "markdown",
   "id": "f9981eec",
   "metadata": {},
   "source": [
    "***\n",
    "- Charge Offs are more in the category of RENT and MORTGAGE\n",
    "\n",
    "**Inference:**\n",
    "- looking at the ratio stats, this category does not give meaningful insights\n",
    "***"
   ]
  },
  {
   "cell_type": "markdown",
   "id": "8866f962",
   "metadata": {},
   "source": [
    "### purpose vs loan status"
   ]
  },
  {
   "cell_type": "code",
   "execution_count": 111,
   "id": "2273bd12",
   "metadata": {},
   "outputs": [
    {
     "data": {
      "image/png": "[encoded data removed]",
      "text/plain": [
       "<Figure size 2160x576 with 1 Axes>"
      ]
     },
     "metadata": {
      "needs_background": "light"
     },
     "output_type": "display_data"
    }
   ],
   "source": [
    "plt.figure(figsize=(30,8))\n",
    "sns.countplot(x='purpose', hue='loan_status', data=df)\n",
    "plt.show()"
   ]
  },
  {
   "cell_type": "code",
   "execution_count": 124,
   "id": "f03d1501",
   "metadata": {
    "scrolled": false
   },
   "outputs": [
    {
     "data": {
      "image/png": "[encoded data removed]",
      "text/plain": [
       "<Figure size 1800x576 with 1 Axes>"
      ]
     },
     "metadata": {
      "needs_background": "light"
     },
     "output_type": "display_data"
    },
    {
     "data": {
      "text/html": [
       "<div>\n",
       "<style scoped>\n",
       "    .dataframe tbody tr th:only-of-type {\n",
       "        vertical-align: middle;\n",
       "    }\n",
       "\n",
       "    .dataframe tbody tr th {\n",
       "        vertical-align: top;\n",
       "    }\n",
       "\n",
       "    .dataframe thead th {\n",
       "        text-align: right;\n",
       "    }\n",
       "</style>\n",
       "<table border=\"1\" class=\"dataframe\">\n",
       "  <thead>\n",
       "    <tr style=\"text-align: right;\">\n",
       "      <th>loan_status</th>\n",
       "      <th>purpose</th>\n",
       "      <th>Charged Off</th>\n",
       "      <th>Fully Paid</th>\n",
       "      <th>total</th>\n",
       "      <th>charge_off_ratio</th>\n",
       "    </tr>\n",
       "  </thead>\n",
       "  <tbody>\n",
       "    <tr>\n",
       "      <th>0</th>\n",
       "      <td>car</td>\n",
       "      <td>159</td>\n",
       "      <td>1329</td>\n",
       "      <td>1488</td>\n",
       "      <td>11.0</td>\n",
       "    </tr>\n",
       "    <tr>\n",
       "      <th>1</th>\n",
       "      <td>credit_card</td>\n",
       "      <td>532</td>\n",
       "      <td>4436</td>\n",
       "      <td>4968</td>\n",
       "      <td>11.0</td>\n",
       "    </tr>\n",
       "    <tr>\n",
       "      <th>2</th>\n",
       "      <td>debt_consolidation</td>\n",
       "      <td>2717</td>\n",
       "      <td>15144</td>\n",
       "      <td>17861</td>\n",
       "      <td>15.0</td>\n",
       "    </tr>\n",
       "    <tr>\n",
       "      <th>3</th>\n",
       "      <td>educational</td>\n",
       "      <td>52</td>\n",
       "      <td>260</td>\n",
       "      <td>312</td>\n",
       "      <td>17.0</td>\n",
       "    </tr>\n",
       "    <tr>\n",
       "      <th>4</th>\n",
       "      <td>home_improvement</td>\n",
       "      <td>330</td>\n",
       "      <td>2450</td>\n",
       "      <td>2780</td>\n",
       "      <td>12.0</td>\n",
       "    </tr>\n",
       "    <tr>\n",
       "      <th>5</th>\n",
       "      <td>house</td>\n",
       "      <td>56</td>\n",
       "      <td>298</td>\n",
       "      <td>354</td>\n",
       "      <td>16.0</td>\n",
       "    </tr>\n",
       "    <tr>\n",
       "      <th>6</th>\n",
       "      <td>major_purchase</td>\n",
       "      <td>214</td>\n",
       "      <td>1904</td>\n",
       "      <td>2118</td>\n",
       "      <td>10.0</td>\n",
       "    </tr>\n",
       "    <tr>\n",
       "      <th>7</th>\n",
       "      <td>medical</td>\n",
       "      <td>105</td>\n",
       "      <td>567</td>\n",
       "      <td>672</td>\n",
       "      <td>16.0</td>\n",
       "    </tr>\n",
       "    <tr>\n",
       "      <th>8</th>\n",
       "      <td>moving</td>\n",
       "      <td>91</td>\n",
       "      <td>475</td>\n",
       "      <td>566</td>\n",
       "      <td>16.0</td>\n",
       "    </tr>\n",
       "    <tr>\n",
       "      <th>9</th>\n",
       "      <td>other</td>\n",
       "      <td>617</td>\n",
       "      <td>3185</td>\n",
       "      <td>3802</td>\n",
       "      <td>16.0</td>\n",
       "    </tr>\n",
       "    <tr>\n",
       "      <th>10</th>\n",
       "      <td>renewable_energy</td>\n",
       "      <td>18</td>\n",
       "      <td>81</td>\n",
       "      <td>99</td>\n",
       "      <td>18.0</td>\n",
       "    </tr>\n",
       "    <tr>\n",
       "      <th>11</th>\n",
       "      <td>small_business</td>\n",
       "      <td>461</td>\n",
       "      <td>1245</td>\n",
       "      <td>1706</td>\n",
       "      <td>27.0</td>\n",
       "    </tr>\n",
       "    <tr>\n",
       "      <th>12</th>\n",
       "      <td>vacation</td>\n",
       "      <td>53</td>\n",
       "      <td>319</td>\n",
       "      <td>372</td>\n",
       "      <td>14.0</td>\n",
       "    </tr>\n",
       "    <tr>\n",
       "      <th>13</th>\n",
       "      <td>wedding</td>\n",
       "      <td>87</td>\n",
       "      <td>822</td>\n",
       "      <td>909</td>\n",
       "      <td>10.0</td>\n",
       "    </tr>\n",
       "  </tbody>\n",
       "</table>\n",
       "</div>"
      ],
      "text/plain": [
       "loan_status             purpose  Charged Off  Fully Paid  total  \\\n",
       "0                           car          159        1329   1488   \n",
       "1                   credit_card          532        4436   4968   \n",
       "2            debt_consolidation         2717       15144  17861   \n",
       "3                   educational           52         260    312   \n",
       "4              home_improvement          330        2450   2780   \n",
       "5                         house           56         298    354   \n",
       "6                major_purchase          214        1904   2118   \n",
       "7                       medical          105         567    672   \n",
       "8                        moving           91         475    566   \n",
       "9                         other          617        3185   3802   \n",
       "10             renewable_energy           18          81     99   \n",
       "11               small_business          461        1245   1706   \n",
       "12                     vacation           53         319    372   \n",
       "13                      wedding           87         822    909   \n",
       "\n",
       "loan_status  charge_off_ratio  \n",
       "0                        11.0  \n",
       "1                        11.0  \n",
       "2                        15.0  \n",
       "3                        17.0  \n",
       "4                        12.0  \n",
       "5                        16.0  \n",
       "6                        10.0  \n",
       "7                        16.0  \n",
       "8                        16.0  \n",
       "9                        16.0  \n",
       "10                       18.0  \n",
       "11                       27.0  \n",
       "12                       14.0  \n",
       "13                       10.0  "
      ]
     },
     "execution_count": 124,
     "metadata": {},
     "output_type": "execute_result"
    }
   ],
   "source": [
    "ratio_wise_plot(df, 'purpose')"
   ]
  },
  {
   "cell_type": "markdown",
   "id": "d0d19a4c",
   "metadata": {},
   "source": [
    "***\n",
    "- debt_consolidation loans are having the highest charge offs.\n",
    "- But the ratio of charge offs is higher for small business.\n",
    "\n",
    "**Inferences:**\n",
    "- Debt consolidation loans have highest risk of charge offs, whereas the probability of charge off is more for small business loans.\n",
    "***"
   ]
  },
  {
   "cell_type": "markdown",
   "id": "d658cedb",
   "metadata": {},
   "source": [
    "### addr_state vs loan status"
   ]
  },
  {
   "cell_type": "code",
   "execution_count": 113,
   "id": "55df137f",
   "metadata": {},
   "outputs": [
    {
     "data": {
      "image/png": "[encoded data removed]",
      "text/plain": [
       "<Figure size 2160x576 with 1 Axes>"
      ]
     },
     "metadata": {
      "needs_background": "light"
     },
     "output_type": "display_data"
    }
   ],
   "source": [
    "plt.figure(figsize=(30,8))\n",
    "sns.countplot(x='addr_state', hue='loan_status', data=df)\n",
    "plt.show()"
   ]
  },
  {
   "cell_type": "code",
   "execution_count": 123,
   "id": "eb47e806",
   "metadata": {
    "scrolled": false
   },
   "outputs": [
    {
     "data": {
      "image/png": "[encoded data removed]",
      "text/plain": [
       "<Figure size 1800x576 with 1 Axes>"
      ]
     },
     "metadata": {
      "needs_background": "light"
     },
     "output_type": "display_data"
    },
    {
     "data": {
      "text/html": [
       "<div>\n",
       "<style scoped>\n",
       "    .dataframe tbody tr th:only-of-type {\n",
       "        vertical-align: middle;\n",
       "    }\n",
       "\n",
       "    .dataframe tbody tr th {\n",
       "        vertical-align: top;\n",
       "    }\n",
       "\n",
       "    .dataframe thead th {\n",
       "        text-align: right;\n",
       "    }\n",
       "</style>\n",
       "<table border=\"1\" class=\"dataframe\">\n",
       "  <thead>\n",
       "    <tr style=\"text-align: right;\">\n",
       "      <th>loan_status</th>\n",
       "      <th>addr_state</th>\n",
       "      <th>Charged Off</th>\n",
       "      <th>Fully Paid</th>\n",
       "      <th>total</th>\n",
       "      <th>charge_off_ratio</th>\n",
       "    </tr>\n",
       "  </thead>\n",
       "  <tbody>\n",
       "    <tr>\n",
       "      <th>0</th>\n",
       "      <td>AK</td>\n",
       "      <td>14.0</td>\n",
       "      <td>63.0</td>\n",
       "      <td>77.0</td>\n",
       "      <td>18.0</td>\n",
       "    </tr>\n",
       "    <tr>\n",
       "      <th>1</th>\n",
       "      <td>AL</td>\n",
       "      <td>52.0</td>\n",
       "      <td>378.0</td>\n",
       "      <td>430.0</td>\n",
       "      <td>12.0</td>\n",
       "    </tr>\n",
       "    <tr>\n",
       "      <th>2</th>\n",
       "      <td>AR</td>\n",
       "      <td>27.0</td>\n",
       "      <td>207.0</td>\n",
       "      <td>234.0</td>\n",
       "      <td>12.0</td>\n",
       "    </tr>\n",
       "    <tr>\n",
       "      <th>3</th>\n",
       "      <td>AZ</td>\n",
       "      <td>120.0</td>\n",
       "      <td>714.0</td>\n",
       "      <td>834.0</td>\n",
       "      <td>14.0</td>\n",
       "    </tr>\n",
       "    <tr>\n",
       "      <th>4</th>\n",
       "      <td>CA</td>\n",
       "      <td>1095.0</td>\n",
       "      <td>5757.0</td>\n",
       "      <td>6852.0</td>\n",
       "      <td>16.0</td>\n",
       "    </tr>\n",
       "    <tr>\n",
       "      <th>5</th>\n",
       "      <td>CO</td>\n",
       "      <td>96.0</td>\n",
       "      <td>655.0</td>\n",
       "      <td>751.0</td>\n",
       "      <td>13.0</td>\n",
       "    </tr>\n",
       "    <tr>\n",
       "      <th>6</th>\n",
       "      <td>CT</td>\n",
       "      <td>93.0</td>\n",
       "      <td>617.0</td>\n",
       "      <td>710.0</td>\n",
       "      <td>13.0</td>\n",
       "    </tr>\n",
       "    <tr>\n",
       "      <th>7</th>\n",
       "      <td>DC</td>\n",
       "      <td>15.0</td>\n",
       "      <td>194.0</td>\n",
       "      <td>209.0</td>\n",
       "      <td>7.0</td>\n",
       "    </tr>\n",
       "    <tr>\n",
       "      <th>8</th>\n",
       "      <td>DE</td>\n",
       "      <td>11.0</td>\n",
       "      <td>101.0</td>\n",
       "      <td>112.0</td>\n",
       "      <td>10.0</td>\n",
       "    </tr>\n",
       "    <tr>\n",
       "      <th>9</th>\n",
       "      <td>FL</td>\n",
       "      <td>492.0</td>\n",
       "      <td>2246.0</td>\n",
       "      <td>2738.0</td>\n",
       "      <td>18.0</td>\n",
       "    </tr>\n",
       "    <tr>\n",
       "      <th>10</th>\n",
       "      <td>GA</td>\n",
       "      <td>212.0</td>\n",
       "      <td>1131.0</td>\n",
       "      <td>1343.0</td>\n",
       "      <td>16.0</td>\n",
       "    </tr>\n",
       "    <tr>\n",
       "      <th>11</th>\n",
       "      <td>HI</td>\n",
       "      <td>28.0</td>\n",
       "      <td>137.0</td>\n",
       "      <td>165.0</td>\n",
       "      <td>17.0</td>\n",
       "    </tr>\n",
       "    <tr>\n",
       "      <th>12</th>\n",
       "      <td>IA</td>\n",
       "      <td>NaN</td>\n",
       "      <td>5.0</td>\n",
       "      <td>NaN</td>\n",
       "      <td>NaN</td>\n",
       "    </tr>\n",
       "    <tr>\n",
       "      <th>13</th>\n",
       "      <td>ID</td>\n",
       "      <td>1.0</td>\n",
       "      <td>5.0</td>\n",
       "      <td>6.0</td>\n",
       "      <td>17.0</td>\n",
       "    </tr>\n",
       "    <tr>\n",
       "      <th>14</th>\n",
       "      <td>IL</td>\n",
       "      <td>194.0</td>\n",
       "      <td>1261.0</td>\n",
       "      <td>1455.0</td>\n",
       "      <td>13.0</td>\n",
       "    </tr>\n",
       "    <tr>\n",
       "      <th>15</th>\n",
       "      <td>IN</td>\n",
       "      <td>NaN</td>\n",
       "      <td>6.0</td>\n",
       "      <td>NaN</td>\n",
       "      <td>NaN</td>\n",
       "    </tr>\n",
       "    <tr>\n",
       "      <th>16</th>\n",
       "      <td>KS</td>\n",
       "      <td>31.0</td>\n",
       "      <td>223.0</td>\n",
       "      <td>254.0</td>\n",
       "      <td>12.0</td>\n",
       "    </tr>\n",
       "    <tr>\n",
       "      <th>17</th>\n",
       "      <td>KY</td>\n",
       "      <td>44.0</td>\n",
       "      <td>266.0</td>\n",
       "      <td>310.0</td>\n",
       "      <td>14.0</td>\n",
       "    </tr>\n",
       "    <tr>\n",
       "      <th>18</th>\n",
       "      <td>LA</td>\n",
       "      <td>53.0</td>\n",
       "      <td>367.0</td>\n",
       "      <td>420.0</td>\n",
       "      <td>13.0</td>\n",
       "    </tr>\n",
       "    <tr>\n",
       "      <th>19</th>\n",
       "      <td>MA</td>\n",
       "      <td>156.0</td>\n",
       "      <td>1110.0</td>\n",
       "      <td>1266.0</td>\n",
       "      <td>12.0</td>\n",
       "    </tr>\n",
       "    <tr>\n",
       "      <th>20</th>\n",
       "      <td>MD</td>\n",
       "      <td>157.0</td>\n",
       "      <td>846.0</td>\n",
       "      <td>1003.0</td>\n",
       "      <td>16.0</td>\n",
       "    </tr>\n",
       "    <tr>\n",
       "      <th>21</th>\n",
       "      <td>ME</td>\n",
       "      <td>NaN</td>\n",
       "      <td>2.0</td>\n",
       "      <td>NaN</td>\n",
       "      <td>NaN</td>\n",
       "    </tr>\n",
       "    <tr>\n",
       "      <th>22</th>\n",
       "      <td>MI</td>\n",
       "      <td>101.0</td>\n",
       "      <td>596.0</td>\n",
       "      <td>697.0</td>\n",
       "      <td>14.0</td>\n",
       "    </tr>\n",
       "    <tr>\n",
       "      <th>23</th>\n",
       "      <td>MN</td>\n",
       "      <td>79.0</td>\n",
       "      <td>520.0</td>\n",
       "      <td>599.0</td>\n",
       "      <td>13.0</td>\n",
       "    </tr>\n",
       "    <tr>\n",
       "      <th>24</th>\n",
       "      <td>MO</td>\n",
       "      <td>111.0</td>\n",
       "      <td>550.0</td>\n",
       "      <td>661.0</td>\n",
       "      <td>17.0</td>\n",
       "    </tr>\n",
       "    <tr>\n",
       "      <th>25</th>\n",
       "      <td>MS</td>\n",
       "      <td>2.0</td>\n",
       "      <td>17.0</td>\n",
       "      <td>19.0</td>\n",
       "      <td>11.0</td>\n",
       "    </tr>\n",
       "    <tr>\n",
       "      <th>26</th>\n",
       "      <td>MT</td>\n",
       "      <td>11.0</td>\n",
       "      <td>72.0</td>\n",
       "      <td>83.0</td>\n",
       "      <td>13.0</td>\n",
       "    </tr>\n",
       "    <tr>\n",
       "      <th>27</th>\n",
       "      <td>NC</td>\n",
       "      <td>112.0</td>\n",
       "      <td>627.0</td>\n",
       "      <td>739.0</td>\n",
       "      <td>15.0</td>\n",
       "    </tr>\n",
       "    <tr>\n",
       "      <th>28</th>\n",
       "      <td>NE</td>\n",
       "      <td>1.0</td>\n",
       "      <td>2.0</td>\n",
       "      <td>3.0</td>\n",
       "      <td>33.0</td>\n",
       "    </tr>\n",
       "    <tr>\n",
       "      <th>29</th>\n",
       "      <td>NH</td>\n",
       "      <td>25.0</td>\n",
       "      <td>139.0</td>\n",
       "      <td>164.0</td>\n",
       "      <td>15.0</td>\n",
       "    </tr>\n",
       "    <tr>\n",
       "      <th>30</th>\n",
       "      <td>NJ</td>\n",
       "      <td>274.0</td>\n",
       "      <td>1483.0</td>\n",
       "      <td>1757.0</td>\n",
       "      <td>16.0</td>\n",
       "    </tr>\n",
       "    <tr>\n",
       "      <th>31</th>\n",
       "      <td>NM</td>\n",
       "      <td>30.0</td>\n",
       "      <td>149.0</td>\n",
       "      <td>179.0</td>\n",
       "      <td>17.0</td>\n",
       "    </tr>\n",
       "    <tr>\n",
       "      <th>32</th>\n",
       "      <td>NV</td>\n",
       "      <td>107.0</td>\n",
       "      <td>367.0</td>\n",
       "      <td>474.0</td>\n",
       "      <td>23.0</td>\n",
       "    </tr>\n",
       "    <tr>\n",
       "      <th>33</th>\n",
       "      <td>NY</td>\n",
       "      <td>480.0</td>\n",
       "      <td>3149.0</td>\n",
       "      <td>3629.0</td>\n",
       "      <td>13.0</td>\n",
       "    </tr>\n",
       "    <tr>\n",
       "      <th>34</th>\n",
       "      <td>OH</td>\n",
       "      <td>148.0</td>\n",
       "      <td>1018.0</td>\n",
       "      <td>1166.0</td>\n",
       "      <td>13.0</td>\n",
       "    </tr>\n",
       "    <tr>\n",
       "      <th>35</th>\n",
       "      <td>OK</td>\n",
       "      <td>39.0</td>\n",
       "      <td>246.0</td>\n",
       "      <td>285.0</td>\n",
       "      <td>14.0</td>\n",
       "    </tr>\n",
       "    <tr>\n",
       "      <th>36</th>\n",
       "      <td>OR</td>\n",
       "      <td>70.0</td>\n",
       "      <td>364.0</td>\n",
       "      <td>434.0</td>\n",
       "      <td>16.0</td>\n",
       "    </tr>\n",
       "    <tr>\n",
       "      <th>37</th>\n",
       "      <td>PA</td>\n",
       "      <td>175.0</td>\n",
       "      <td>1278.0</td>\n",
       "      <td>1453.0</td>\n",
       "      <td>12.0</td>\n",
       "    </tr>\n",
       "    <tr>\n",
       "      <th>38</th>\n",
       "      <td>RI</td>\n",
       "      <td>25.0</td>\n",
       "      <td>165.0</td>\n",
       "      <td>190.0</td>\n",
       "      <td>13.0</td>\n",
       "    </tr>\n",
       "    <tr>\n",
       "      <th>39</th>\n",
       "      <td>SC</td>\n",
       "      <td>66.0</td>\n",
       "      <td>389.0</td>\n",
       "      <td>455.0</td>\n",
       "      <td>15.0</td>\n",
       "    </tr>\n",
       "    <tr>\n",
       "      <th>40</th>\n",
       "      <td>SD</td>\n",
       "      <td>12.0</td>\n",
       "      <td>49.0</td>\n",
       "      <td>61.0</td>\n",
       "      <td>20.0</td>\n",
       "    </tr>\n",
       "    <tr>\n",
       "      <th>41</th>\n",
       "      <td>TN</td>\n",
       "      <td>2.0</td>\n",
       "      <td>15.0</td>\n",
       "      <td>17.0</td>\n",
       "      <td>12.0</td>\n",
       "    </tr>\n",
       "    <tr>\n",
       "      <th>42</th>\n",
       "      <td>TX</td>\n",
       "      <td>303.0</td>\n",
       "      <td>2312.0</td>\n",
       "      <td>2615.0</td>\n",
       "      <td>12.0</td>\n",
       "    </tr>\n",
       "    <tr>\n",
       "      <th>43</th>\n",
       "      <td>UT</td>\n",
       "      <td>40.0</td>\n",
       "      <td>211.0</td>\n",
       "      <td>251.0</td>\n",
       "      <td>16.0</td>\n",
       "    </tr>\n",
       "    <tr>\n",
       "      <th>44</th>\n",
       "      <td>VA</td>\n",
       "      <td>170.0</td>\n",
       "      <td>1181.0</td>\n",
       "      <td>1351.0</td>\n",
       "      <td>13.0</td>\n",
       "    </tr>\n",
       "    <tr>\n",
       "      <th>45</th>\n",
       "      <td>VT</td>\n",
       "      <td>6.0</td>\n",
       "      <td>47.0</td>\n",
       "      <td>53.0</td>\n",
       "      <td>11.0</td>\n",
       "    </tr>\n",
       "    <tr>\n",
       "      <th>46</th>\n",
       "      <td>WA</td>\n",
       "      <td>127.0</td>\n",
       "      <td>683.0</td>\n",
       "      <td>810.0</td>\n",
       "      <td>16.0</td>\n",
       "    </tr>\n",
       "    <tr>\n",
       "      <th>47</th>\n",
       "      <td>WI</td>\n",
       "      <td>61.0</td>\n",
       "      <td>368.0</td>\n",
       "      <td>429.0</td>\n",
       "      <td>14.0</td>\n",
       "    </tr>\n",
       "    <tr>\n",
       "      <th>48</th>\n",
       "      <td>WV</td>\n",
       "      <td>20.0</td>\n",
       "      <td>151.0</td>\n",
       "      <td>171.0</td>\n",
       "      <td>12.0</td>\n",
       "    </tr>\n",
       "    <tr>\n",
       "      <th>49</th>\n",
       "      <td>WY</td>\n",
       "      <td>4.0</td>\n",
       "      <td>76.0</td>\n",
       "      <td>80.0</td>\n",
       "      <td>5.0</td>\n",
       "    </tr>\n",
       "  </tbody>\n",
       "</table>\n",
       "</div>"
      ],
      "text/plain": [
       "loan_status addr_state  Charged Off  Fully Paid   total  charge_off_ratio\n",
       "0                   AK         14.0        63.0    77.0              18.0\n",
       "1                   AL         52.0       378.0   430.0              12.0\n",
       "2                   AR         27.0       207.0   234.0              12.0\n",
       "3                   AZ        120.0       714.0   834.0              14.0\n",
       "4                   CA       1095.0      5757.0  6852.0              16.0\n",
       "5                   CO         96.0       655.0   751.0              13.0\n",
       "6                   CT         93.0       617.0   710.0              13.0\n",
       "7                   DC         15.0       194.0   209.0               7.0\n",
       "8                   DE         11.0       101.0   112.0              10.0\n",
       "9                   FL        492.0      2246.0  2738.0              18.0\n",
       "10                  GA        212.0      1131.0  1343.0              16.0\n",
       "11                  HI         28.0       137.0   165.0              17.0\n",
       "12                  IA          NaN         5.0     NaN               NaN\n",
       "13                  ID          1.0         5.0     6.0              17.0\n",
       "14                  IL        194.0      1261.0  1455.0              13.0\n",
       "15                  IN          NaN         6.0     NaN               NaN\n",
       "16                  KS         31.0       223.0   254.0              12.0\n",
       "17                  KY         44.0       266.0   310.0              14.0\n",
       "18                  LA         53.0       367.0   420.0              13.0\n",
       "19                  MA        156.0      1110.0  1266.0              12.0\n",
       "20                  MD        157.0       846.0  1003.0              16.0\n",
       "21                  ME          NaN         2.0     NaN               NaN\n",
       "22                  MI        101.0       596.0   697.0              14.0\n",
       "23                  MN         79.0       520.0   599.0              13.0\n",
       "24                  MO        111.0       550.0   661.0              17.0\n",
       "25                  MS          2.0        17.0    19.0              11.0\n",
       "26                  MT         11.0        72.0    83.0              13.0\n",
       "27                  NC        112.0       627.0   739.0              15.0\n",
       "28                  NE          1.0         2.0     3.0              33.0\n",
       "29                  NH         25.0       139.0   164.0              15.0\n",
       "30                  NJ        274.0      1483.0  1757.0              16.0\n",
       "31                  NM         30.0       149.0   179.0              17.0\n",
       "32                  NV        107.0       367.0   474.0              23.0\n",
       "33                  NY        480.0      3149.0  3629.0              13.0\n",
       "34                  OH        148.0      1018.0  1166.0              13.0\n",
       "35                  OK         39.0       246.0   285.0              14.0\n",
       "36                  OR         70.0       364.0   434.0              16.0\n",
       "37                  PA        175.0      1278.0  1453.0              12.0\n",
       "38                  RI         25.0       165.0   190.0              13.0\n",
       "39                  SC         66.0       389.0   455.0              15.0\n",
       "40                  SD         12.0        49.0    61.0              20.0\n",
       "41                  TN          2.0        15.0    17.0              12.0\n",
       "42                  TX        303.0      2312.0  2615.0              12.0\n",
       "43                  UT         40.0       211.0   251.0              16.0\n",
       "44                  VA        170.0      1181.0  1351.0              13.0\n",
       "45                  VT          6.0        47.0    53.0              11.0\n",
       "46                  WA        127.0       683.0   810.0              16.0\n",
       "47                  WI         61.0       368.0   429.0              14.0\n",
       "48                  WV         20.0       151.0   171.0              12.0\n",
       "49                  WY          4.0        76.0    80.0               5.0"
      ]
     },
     "execution_count": 123,
     "metadata": {},
     "output_type": "execute_result"
    }
   ],
   "source": [
    "ratio_wise_plot(df, 'addr_state')"
   ]
  },
  {
   "cell_type": "markdown",
   "id": "d1d51fe4",
   "metadata": {},
   "source": [
    "***\n",
    "- The hghest Charge Offs are from CA\n",
    "- When we look at the ratio, states NE and NV has the highest Charge Offs\n",
    "\n",
    "- **Inferences**\n",
    "    - Loan applications from NE have high risk of Charge Offs\n",
    "***"
   ]
  },
  {
   "cell_type": "markdown",
   "id": "c61dbc2a",
   "metadata": {},
   "source": [
    "### pub_rec_bankruptcies vs loan status"
   ]
  },
  {
   "cell_type": "code",
   "execution_count": 115,
   "id": "ca7df1b5",
   "metadata": {},
   "outputs": [
    {
     "data": {
      "image/png": "[encoded data removed]",
      "text/plain": [
       "<Figure size 432x288 with 1 Axes>"
      ]
     },
     "metadata": {
      "needs_background": "light"
     },
     "output_type": "display_data"
    }
   ],
   "source": [
    "# plt.figure(figsize=(30,8))\n",
    "sns.countplot(x='pub_rec_bankruptcies', hue='loan_status', data=df)\n",
    "plt.show()"
   ]
  },
  {
   "cell_type": "code",
   "execution_count": 116,
   "id": "0ff58e52",
   "metadata": {
    "scrolled": false
   },
   "outputs": [
    {
     "data": {
      "image/png": "[encoded data removed]",
      "text/plain": [
       "<Figure size 576x432 with 1 Axes>"
      ]
     },
     "metadata": {
      "needs_background": "light"
     },
     "output_type": "display_data"
    },
    {
     "data": {
      "text/html": [
       "<div>\n",
       "<style scoped>\n",
       "    .dataframe tbody tr th:only-of-type {\n",
       "        vertical-align: middle;\n",
       "    }\n",
       "\n",
       "    .dataframe tbody tr th {\n",
       "        vertical-align: top;\n",
       "    }\n",
       "\n",
       "    .dataframe thead th {\n",
       "        text-align: right;\n",
       "    }\n",
       "</style>\n",
       "<table border=\"1\" class=\"dataframe\">\n",
       "  <thead>\n",
       "    <tr style=\"text-align: right;\">\n",
       "      <th>loan_status</th>\n",
       "      <th>pub_rec_bankruptcies</th>\n",
       "      <th>Charged Off</th>\n",
       "      <th>Fully Paid</th>\n",
       "      <th>total</th>\n",
       "      <th>charge_off_ratio</th>\n",
       "    </tr>\n",
       "  </thead>\n",
       "  <tbody>\n",
       "    <tr>\n",
       "      <th>0</th>\n",
       "      <td>0.0</td>\n",
       "      <td>5132</td>\n",
       "      <td>31246</td>\n",
       "      <td>36378</td>\n",
       "      <td>14.0</td>\n",
       "    </tr>\n",
       "    <tr>\n",
       "      <th>1</th>\n",
       "      <td>1.0</td>\n",
       "      <td>358</td>\n",
       "      <td>1266</td>\n",
       "      <td>1624</td>\n",
       "      <td>22.0</td>\n",
       "    </tr>\n",
       "    <tr>\n",
       "      <th>2</th>\n",
       "      <td>2.0</td>\n",
       "      <td>2</td>\n",
       "      <td>3</td>\n",
       "      <td>5</td>\n",
       "      <td>40.0</td>\n",
       "    </tr>\n",
       "  </tbody>\n",
       "</table>\n",
       "</div>"
      ],
      "text/plain": [
       "loan_status  pub_rec_bankruptcies  Charged Off  Fully Paid  total  \\\n",
       "0                             0.0         5132       31246  36378   \n",
       "1                             1.0          358        1266   1624   \n",
       "2                             2.0            2           3      5   \n",
       "\n",
       "loan_status  charge_off_ratio  \n",
       "0                        14.0  \n",
       "1                        22.0  \n",
       "2                        40.0  "
      ]
     },
     "execution_count": 116,
     "metadata": {},
     "output_type": "execute_result"
    }
   ],
   "source": [
    "ratio_wise_plot(df, 'pub_rec_bankruptcies')"
   ]
  },
  {
   "attachments": {},
   "cell_type": "markdown",
   "id": "4abd1460",
   "metadata": {},
   "source": [
    "***\n",
    "**Inferences:**\n",
    "- Customers having bankruptcy record are at high risk of Charge Offs\n",
    "***"
   ]
  },
  {
   "cell_type": "markdown",
   "id": "4cc68732",
   "metadata": {},
   "source": [
    "### annual income bucket vs loan status"
   ]
  },
  {
   "cell_type": "code",
   "execution_count": 117,
   "id": "0176c7b8",
   "metadata": {},
   "outputs": [
    {
     "data": {
      "image/png": "[encoded data removed]",
      "text/plain": [
       "<Figure size 432x288 with 1 Axes>"
      ]
     },
     "metadata": {
      "needs_background": "light"
     },
     "output_type": "display_data"
    }
   ],
   "source": [
    "sns.countplot(x='annual_inc_bucket', hue='loan_status', data=df)\n",
    "plt.show()"
   ]
  },
  {
   "cell_type": "code",
   "execution_count": 118,
   "id": "05ba01d9",
   "metadata": {
    "scrolled": true
   },
   "outputs": [
    {
     "data": {
      "image/png": "[encoded data removed]",
      "text/plain": [
       "<Figure size 576x432 with 1 Axes>"
      ]
     },
     "metadata": {
      "needs_background": "light"
     },
     "output_type": "display_data"
    },
    {
     "data": {
      "text/html": [
       "<div>\n",
       "<style scoped>\n",
       "    .dataframe tbody tr th:only-of-type {\n",
       "        vertical-align: middle;\n",
       "    }\n",
       "\n",
       "    .dataframe tbody tr th {\n",
       "        vertical-align: top;\n",
       "    }\n",
       "\n",
       "    .dataframe thead th {\n",
       "        text-align: right;\n",
       "    }\n",
       "</style>\n",
       "<table border=\"1\" class=\"dataframe\">\n",
       "  <thead>\n",
       "    <tr style=\"text-align: right;\">\n",
       "      <th>loan_status</th>\n",
       "      <th>annual_inc_bucket</th>\n",
       "      <th>Charged Off</th>\n",
       "      <th>Fully Paid</th>\n",
       "      <th>total</th>\n",
       "      <th>charge_off_ratio</th>\n",
       "    </tr>\n",
       "  </thead>\n",
       "  <tbody>\n",
       "    <tr>\n",
       "      <th>0</th>\n",
       "      <td>0 - 40k</td>\n",
       "      <td>1707</td>\n",
       "      <td>7907</td>\n",
       "      <td>9614</td>\n",
       "      <td>18.0</td>\n",
       "    </tr>\n",
       "    <tr>\n",
       "      <th>1</th>\n",
       "      <td>40k - 50k</td>\n",
       "      <td>847</td>\n",
       "      <td>4818</td>\n",
       "      <td>5665</td>\n",
       "      <td>15.0</td>\n",
       "    </tr>\n",
       "    <tr>\n",
       "      <th>2</th>\n",
       "      <td>50k to 60k</td>\n",
       "      <td>861</td>\n",
       "      <td>4700</td>\n",
       "      <td>5561</td>\n",
       "      <td>15.0</td>\n",
       "    </tr>\n",
       "    <tr>\n",
       "      <th>3</th>\n",
       "      <td>60k to 70k</td>\n",
       "      <td>551</td>\n",
       "      <td>3533</td>\n",
       "      <td>4084</td>\n",
       "      <td>13.0</td>\n",
       "    </tr>\n",
       "    <tr>\n",
       "      <th>4</th>\n",
       "      <td>70k to 80k</td>\n",
       "      <td>455</td>\n",
       "      <td>3053</td>\n",
       "      <td>3508</td>\n",
       "      <td>13.0</td>\n",
       "    </tr>\n",
       "    <tr>\n",
       "      <th>5</th>\n",
       "      <td>80k - above</td>\n",
       "      <td>1071</td>\n",
       "      <td>8504</td>\n",
       "      <td>9575</td>\n",
       "      <td>11.0</td>\n",
       "    </tr>\n",
       "  </tbody>\n",
       "</table>\n",
       "</div>"
      ],
      "text/plain": [
       "loan_status annual_inc_bucket  Charged Off  Fully Paid  total  \\\n",
       "0                     0 - 40k         1707        7907   9614   \n",
       "1                   40k - 50k          847        4818   5665   \n",
       "2                  50k to 60k          861        4700   5561   \n",
       "3                  60k to 70k          551        3533   4084   \n",
       "4                  70k to 80k          455        3053   3508   \n",
       "5                 80k - above         1071        8504   9575   \n",
       "\n",
       "loan_status  charge_off_ratio  \n",
       "0                        18.0  \n",
       "1                        15.0  \n",
       "2                        15.0  \n",
       "3                        13.0  \n",
       "4                        13.0  \n",
       "5                        11.0  "
      ]
     },
     "execution_count": 118,
     "metadata": {},
     "output_type": "execute_result"
    }
   ],
   "source": [
    "ratio_wise_plot(df, 'annual_inc_bucket')"
   ]
  },
  {
   "attachments": {},
   "cell_type": "markdown",
   "id": "4d974082",
   "metadata": {},
   "source": [
    "***\n",
    "**Inference:**\n",
    "- Higher the salary, less is the chance of change off\n",
    "***"
   ]
  },
  {
   "cell_type": "code",
   "execution_count": null,
   "id": "52b582ea",
   "metadata": {},
   "outputs": [],
   "source": []
  }
 ],
 "metadata": {
  "kernelspec": {
   "display_name": "Python 3 (ipykernel)",
   "language": "python",
   "name": "python3"
  },
  "language_info": {
   "codemirror_mode": {
    "name": "ipython",
    "version": 3
   },
   "file_extension": ".py",
   "mimetype": "text/x-python",
   "name": "python",
   "nbconvert_exporter": "python",
   "pygments_lexer": "ipython3",
   "version": "3.9.7"
  }
 },
 "nbformat": 4,
 "nbformat_minor": 5
}
